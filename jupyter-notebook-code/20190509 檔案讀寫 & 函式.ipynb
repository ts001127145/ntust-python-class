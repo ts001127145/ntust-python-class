{
 "cells": [
  {
   "cell_type": "code",
   "execution_count": 56,
   "metadata": {},
   "outputs": [],
   "source": [
    "f = open(\"20190509_sample.csv\",mode=\"r\", encoding = \"utf-8\")\n",
    "data = f.readlines()\n",
    "# 需要呼叫close()將檔案關閉，避免資源浪費(後台程式不會持續進行)\n",
    "f.close()"
   ]
  },
  {
   "cell_type": "code",
   "execution_count": 57,
   "metadata": {},
   "outputs": [
    {
     "name": "stdout",
     "output_type": "stream",
     "text": [
      "['貨品分類,中文貨名,英文貨名,國家,數量,數量單位,重量,重量單位,價值\\n', '3032300007,冷凍吳郭魚,\" Tilapias, frozen\",巴林,0,-   ,8000,KGM ,411\\n', '3032300007,冷凍吳郭魚,\" Tilapias, frozen\",日本,0,-   ,10800,KGM ,696\\n', '3032300007,冷凍吳郭魚,\" Tilapias, frozen\",加拿大,0,-   ,108631,KGM ,7365\\n', '3032300007,冷凍吳郭魚,\" Tilapias, frozen\",沙烏地阿拉伯,0,-   ,503000,KGM ,24919\\n', '3032300007,冷凍吳郭魚,\" Tilapias, frozen\",其他大洋洲國家,0,-   ,11695,KGM ,729\\n', '3032300007,冷凍吳郭魚,\" Tilapias, frozen\",阿拉伯聯合大公國,0,-   ,29000,KGM ,1274\\n', '3032300007,冷凍吳郭魚,\" Tilapias, frozen\",科威特,0,-   ,121536,KGM ,6128\\n', '3032300007,冷凍吳郭魚,\" Tilapias, frozen\",美國,0,-   ,749982,KGM ,46022\\n', '3032300007,冷凍吳郭魚,\" Tilapias, frozen\",香港,0,-   ,72,KGM ,2\\n', '3032300007,冷凍吳郭魚,\" Tilapias, frozen\",澳大利亞,0,-   ,69570,KGM ,4786\\n', '3032300007,冷凍吳郭魚,\" Tilapias, frozen\",關島,0,-   ,8618,KGM ,458\\n', '12019000104,黑豆，不論是否破碎,\" Black soybeans, whether or not broken\",加拿大,0,-   ,0,TNE ,43\\n', '12019000104,黑豆，不論是否破碎,\" Black soybeans, whether or not broken\",美國,0,-   ,0,TNE ,9\\n', '12019000104,黑豆，不論是否破碎,\" Black soybeans, whether or not broken\",菲律賓,0,-   ,0,TNE ,6\\n', '52114200005,牛仔布, Denim,中國大陸,11398,MTK ,1991,KGM ,902\\n', '52114200005,牛仔布, Denim,日本,14364,MTK ,3898,KGM ,1596\\n', '52114200005,牛仔布, Denim,印尼,21998,MTK ,3869,KGM ,1543\\n', '52114200005,牛仔布, Denim,印度,7212,MTK ,2185,KGM ,513\\n', '52114200005,牛仔布, Denim,柬埔寨,28081,MTK ,9915,KGM ,2469\\n', '52114200005,牛仔布, Denim,馬來西亞,8925,MTK ,3598,KGM ,575\\n', '52114200005,牛仔布, Denim,越南,139191,MTK ,53225,KGM ,12330\\n', '52114200005,牛仔布, Denim,賴索托,6894,MTK ,2771,KGM ,435\\n']\n"
     ]
    }
   ],
   "source": [
    "print(data)"
   ]
  },
  {
   "cell_type": "code",
   "execution_count": 58,
   "metadata": {},
   "outputs": [
    {
     "name": "stdout",
     "output_type": "stream",
     "text": [
      "貨品分類,中文貨名,英文貨名,國家,數量,數量單位,重量,重量單位,價值\n",
      "3032300007,冷凍吳郭魚,\" Tilapias, frozen\",巴林,0,-   ,8000,KGM ,411\n",
      "3032300007,冷凍吳郭魚,\" Tilapias, frozen\",日本,0,-   ,10800,KGM ,696\n",
      "3032300007,冷凍吳郭魚,\" Tilapias, frozen\",加拿大,0,-   ,108631,KGM ,7365\n",
      "3032300007,冷凍吳郭魚,\" Tilapias, frozen\",沙烏地阿拉伯,0,-   ,503000,KGM ,24919\n",
      "3032300007,冷凍吳郭魚,\" Tilapias, frozen\",其他大洋洲國家,0,-   ,11695,KGM ,729\n",
      "3032300007,冷凍吳郭魚,\" Tilapias, frozen\",阿拉伯聯合大公國,0,-   ,29000,KGM ,1274\n",
      "3032300007,冷凍吳郭魚,\" Tilapias, frozen\",科威特,0,-   ,121536,KGM ,6128\n",
      "3032300007,冷凍吳郭魚,\" Tilapias, frozen\",美國,0,-   ,749982,KGM ,46022\n",
      "3032300007,冷凍吳郭魚,\" Tilapias, frozen\",香港,0,-   ,72,KGM ,2\n",
      "3032300007,冷凍吳郭魚,\" Tilapias, frozen\",澳大利亞,0,-   ,69570,KGM ,4786\n",
      "3032300007,冷凍吳郭魚,\" Tilapias, frozen\",關島,0,-   ,8618,KGM ,458\n",
      "12019000104,黑豆，不論是否破碎,\" Black soybeans, whether or not broken\",加拿大,0,-   ,0,TNE ,43\n",
      "12019000104,黑豆，不論是否破碎,\" Black soybeans, whether or not broken\",美國,0,-   ,0,TNE ,9\n",
      "12019000104,黑豆，不論是否破碎,\" Black soybeans, whether or not broken\",菲律賓,0,-   ,0,TNE ,6\n",
      "52114200005,牛仔布, Denim,中國大陸,11398,MTK ,1991,KGM ,902\n",
      "52114200005,牛仔布, Denim,日本,14364,MTK ,3898,KGM ,1596\n",
      "52114200005,牛仔布, Denim,印尼,21998,MTK ,3869,KGM ,1543\n",
      "52114200005,牛仔布, Denim,印度,7212,MTK ,2185,KGM ,513\n",
      "52114200005,牛仔布, Denim,柬埔寨,28081,MTK ,9915,KGM ,2469\n",
      "52114200005,牛仔布, Denim,馬來西亞,8925,MTK ,3598,KGM ,575\n",
      "52114200005,牛仔布, Denim,越南,139191,MTK ,53225,KGM ,12330\n",
      "52114200005,牛仔布, Denim,賴索托,6894,MTK ,2771,KGM ,435\n"
     ]
    }
   ],
   "source": [
    "# print(data)\n",
    "for line in data:\n",
    "    print(line.strip()) # 使用.strip()將資料頭尾的空白去除"
   ]
  },
  {
   "cell_type": "code",
   "execution_count": 59,
   "metadata": {},
   "outputs": [
    {
     "name": "stdout",
     "output_type": "stream",
     "text": [
      "貨品分類 中文貨名\n",
      "3032300007 冷凍吳郭魚\n",
      "3032300007 冷凍吳郭魚\n",
      "3032300007 冷凍吳郭魚\n",
      "3032300007 冷凍吳郭魚\n",
      "3032300007 冷凍吳郭魚\n",
      "3032300007 冷凍吳郭魚\n",
      "3032300007 冷凍吳郭魚\n",
      "3032300007 冷凍吳郭魚\n",
      "3032300007 冷凍吳郭魚\n",
      "3032300007 冷凍吳郭魚\n",
      "3032300007 冷凍吳郭魚\n",
      "12019000104 黑豆，不論是否破碎\n",
      "12019000104 黑豆，不論是否破碎\n",
      "12019000104 黑豆，不論是否破碎\n",
      "52114200005 牛仔布\n",
      "52114200005 牛仔布\n",
      "52114200005 牛仔布\n",
      "52114200005 牛仔布\n",
      "52114200005 牛仔布\n",
      "52114200005 牛仔布\n",
      "52114200005 牛仔布\n",
      "52114200005 牛仔布\n"
     ]
    }
   ],
   "source": [
    "# 用逗點去將資料進行切割\n",
    "# 並只顯示前兩列的資料\n",
    "for line in data:\n",
    "    categoryNo = line.split(\",\")[0]\n",
    "    name = line.split(\",\")[1]\n",
    "    print(categoryNo, name)"
   ]
  },
  {
   "cell_type": "markdown",
   "metadata": {},
   "source": [
    "### 常用功能\n",
    "* read(num):讀取指定數目num的字元\n",
    "* readline():讀取檔案一行的資料\n",
    "* readline():讀取檔案所有資料(用list的形式)\n",
    "* write():將檔案寫出"
   ]
  },
  {
   "cell_type": "code",
   "execution_count": 77,
   "metadata": {},
   "outputs": [
    {
     "name": "stdout",
     "output_type": "stream",
     "text": [
      "貨品分類,中文貨名,英文貨名,國家,數量,數量單位,重量,重量單位,價值\n",
      "3032300007,冷凍吳郭魚,\" Tilapias, frozen\",巴林,0,-   ,8000,KGM ,411\n",
      "3032300007,冷凍吳郭魚,\" Tilapias, frozen\",日本,0,-   ,10800,KGM ,696\n",
      "3032300007,冷凍吳郭魚,\" Tilapias, frozen\",\n"
     ]
    }
   ],
   "source": [
    "f = open(\"20190509_sample.csv\",mode=\"r\", encoding = \"utf-8\")\n",
    "\n",
    "# read是讀取到某個字元\n",
    "\n",
    "data = f.read(197)\n",
    "print(data)"
   ]
  },
  {
   "cell_type": "code",
   "execution_count": 70,
   "metadata": {
    "collapsed": true
   },
   "outputs": [
    {
     "name": "stdout",
     "output_type": "stream",
     "text": [
      "['貨品分類,中文貨名,英文貨名,國家,數量,數量單位,重量,重量單位,價值\\n', '3032300007,冷凍吳郭魚,\" Tilapias, frozen\",巴林,0,-   ,8000,KGM ,411\\n', '3032300007,冷凍吳郭魚,\" Tilapias, frozen\",日本,0,-   ,10800,KGM ,696\\n', '3032300007,冷凍吳郭魚,\" Tilapias, frozen\",加拿大,0,-   ,108631,KGM ,7365\\n', '3032300007,冷凍吳郭魚,\" Tilapias, frozen\",沙烏地阿拉伯,0,-   ,503000,KGM ,24919\\n', '3032300007,冷凍吳郭魚,\" Tilapias, frozen\",其他大洋洲國家,0,-   ,11695,KGM ,729\\n', '3032300007,冷凍吳郭魚,\" Tilapias, frozen\",阿拉伯聯合大公國,0,-   ,29000,KGM ,1274\\n', '3032300007,冷凍吳郭魚,\" Tilapias, frozen\",科威特,0,-   ,121536,KGM ,6128\\n', '3032300007,冷凍吳郭魚,\" Tilapias, frozen\",美國,0,-   ,749982,KGM ,46022\\n', '3032300007,冷凍吳郭魚,\" Tilapias, frozen\",香港,0,-   ,72,KGM ,2\\n', '3032300007,冷凍吳郭魚,\" Tilapias, frozen\",澳大利亞,0,-   ,69570,KGM ,4786\\n', '3032300007,冷凍吳郭魚,\" Tilapias, frozen\",關島,0,-   ,8618,KGM ,458\\n', '12019000104,黑豆，不論是否破碎,\" Black soybeans, whether or not broken\",加拿大,0,-   ,0,TNE ,43\\n', '12019000104,黑豆，不論是否破碎,\" Black soybeans, whether or not broken\",美國,0,-   ,0,TNE ,9\\n', '12019000104,黑豆，不論是否破碎,\" Black soybeans, whether or not broken\",菲律賓,0,-   ,0,TNE ,6\\n', '52114200005,牛仔布, Denim,中國大陸,11398,MTK ,1991,KGM ,902\\n', '52114200005,牛仔布, Denim,日本,14364,MTK ,3898,KGM ,1596\\n', '52114200005,牛仔布, Denim,印尼,21998,MTK ,3869,KGM ,1543\\n', '52114200005,牛仔布, Denim,印度,7212,MTK ,2185,KGM ,513\\n', '52114200005,牛仔布, Denim,柬埔寨,28081,MTK ,9915,KGM ,2469\\n', '52114200005,牛仔布, Denim,馬來西亞,8925,MTK ,3598,KGM ,575\\n', '52114200005,牛仔布, Denim,越南,139191,MTK ,53225,KGM ,12330\\n', '52114200005,牛仔布, Denim,賴索托,6894,MTK ,2771,KGM ,435\\n']\n",
      "==================================================\n",
      "['貨品分類,中文貨名,英文貨名,國家,數量,數量單位,重量,重量單位,價值\\n', '3032300007,冷凍吳郭魚,\" Tilapias, frozen\",巴林,0,-   ,8000,KGM ,411\\n', '3032300007,冷凍吳郭魚,\" Tilapias, frozen\",日本,0,-   ,10800,KGM ,696\\n', '3032300007,冷凍吳郭魚,\" Tilapias, frozen\",加拿大,0,-   ,108631,KGM ,7365\\n', '3032300007,冷凍吳郭魚,\" Tilapias, frozen\",沙烏地阿拉伯,0,-   ,503000,KGM ,24919\\n', '3032300007,冷凍吳郭魚,\" Tilapias, frozen\",其他大洋洲國家,0,-   ,11695,KGM ,729\\n', '3032300007,冷凍吳郭魚,\" Tilapias, frozen\",阿拉伯聯合大公國,0,-   ,29000,KGM ,1274\\n', '3032300007,冷凍吳郭魚,\" Tilapias, frozen\",科威特,0,-   ,121536,KGM ,6128\\n', '3032300007,冷凍吳郭魚,\" Tilapias, frozen\",美國,0,-   ,749982,KGM ,46022\\n', '3032300007,冷凍吳郭魚,\" Tilapias, frozen\",香港,0,-   ,72,KGM ,2\\n', '3032300007,冷凍吳郭魚,\" Tilapias, frozen\",澳大利亞,0,-   ,69570,KGM ,4786\\n', '3032300007,冷凍吳郭魚,\" Tilapias, frozen\",關島,0,-   ,8618,KGM ,458\\n', '12019000104,黑豆，不論是否破碎,\" Black soybeans, whether or not broken\",加拿大,0,-   ,0,TNE ,43\\n', '12019000104,黑豆，不論是否破碎,\" Black soybeans, whether or not broken\",美國,0,-   ,0,TNE ,9\\n', '12019000104,黑豆，不論是否破碎,\" Black soybeans, whether or not broken\",菲律賓,0,-   ,0,TNE ,6\\n', '52114200005,牛仔布, Denim,中國大陸,11398,MTK ,1991,KGM ,902\\n', '52114200005,牛仔布, Denim,日本,14364,MTK ,3898,KGM ,1596\\n', '52114200005,牛仔布, Denim,印尼,21998,MTK ,3869,KGM ,1543\\n', '52114200005,牛仔布, Denim,印度,7212,MTK ,2185,KGM ,513\\n', '52114200005,牛仔布, Denim,柬埔寨,28081,MTK ,9915,KGM ,2469\\n', '52114200005,牛仔布, Denim,馬來西亞,8925,MTK ,3598,KGM ,575\\n', '52114200005,牛仔布, Denim,越南,139191,MTK ,53225,KGM ,12330\\n', '52114200005,牛仔布, Denim,賴索托,6894,MTK ,2771,KGM ,435\\n']\n"
     ]
    }
   ],
   "source": [
    "f = open(\"20190509_sample.csv\",mode=\"r\", encoding = \"utf-8\")\n",
    "\n",
    "# 想要讀資料的時候是出現list，就用.readlines()\n",
    "\n",
    "data = f.readlines()\n",
    "print(data)\n"
   ]
  },
  {
   "cell_type": "code",
   "execution_count": 78,
   "metadata": {},
   "outputs": [
    {
     "name": "stdout",
     "output_type": "stream",
     "text": [
      "貨品分類,中文貨名,英文貨名,國家,數量,數量單位,重量,重量單位,價值\n",
      "3032300007,冷凍吳郭魚,\" Tilapias, frozen\",巴林,0,-   ,8000,KGM ,411\n",
      "3032300007,冷凍吳郭魚,\" Tilapias, frozen\",日本,0,-   ,10800,KGM ,696\n",
      "3032300007,冷凍吳郭魚,\" Tilapias, frozen\",加拿大,0,-   ,108631,KGM ,7365\n",
      "\n"
     ]
    }
   ],
   "source": [
    "f = open(\"20190509_sample.csv\",mode=\"r\", encoding = \"utf-8\")\n",
    "\n",
    "#.readline()是讀取檔案一行的資料\n",
    "\n",
    "data = f.readline()\n",
    "data += f.readline()\n",
    "data += f.readline()\n",
    "data += f.readline()\n",
    "\n",
    "print(data)"
   ]
  },
  {
   "cell_type": "code",
   "execution_count": 142,
   "metadata": {},
   "outputs": [],
   "source": [
    "# write 將檔案寫出去\n",
    "# 第一種方式\n",
    "\n",
    "f2 = open(\"20190509test1.txt\", mode = \"w\")\n",
    "\n",
    "# \\n : 換行字元\n",
    "f2.write(\"Hello World!\")\n",
    "f2.write(\"\\n\")\n",
    "\n",
    "f2.write(\"python test!\")\n",
    "f2.write(\"\\n\")\n",
    "f2.write(\"~~~~~~~~~~~\")\n",
    "f2.write(\"\\n\")\n",
    "\n",
    "f2.close()"
   ]
  },
  {
   "cell_type": "code",
   "execution_count": 143,
   "metadata": {},
   "outputs": [],
   "source": [
    "# 將檔案寫出去\n",
    "# 第二種方式，用for-loop\n",
    "f3 = open(\"20190509test2.txt\", mode = \"w\")\n",
    "data_word = [\"今天是週四\",\n",
    "            \"明天是週五\",\n",
    "            \"但我還要弄論文\",\n",
    "            \"所以也沒有什麼放不放假的事\",\n",
    "            \"桑心~~~~~~\"]\n",
    "for w in data_word:\n",
    "    f3.write(w)\n",
    "    f3.write(\"\\n\")\n",
    "    \n",
    "f3.close()"
   ]
  },
  {
   "cell_type": "code",
   "execution_count": 144,
   "metadata": {},
   "outputs": [],
   "source": [
    "# Append 將檔案中資料不斷往上疊加\n",
    "\n",
    "words = [\n",
    "    \"Avengers\",\n",
    "    \"每天都在下雨\",\n",
    "    \"py~~~~~thon\",\n",
    "    \"Anaconda\",\n",
    "    \"原萃綠茶\"\n",
    "]\n",
    "\n",
    "f4 = open(\"20190509test3.txt\", mode = \"a\")\n",
    "for w in words:\n",
    "    f4.write(w)\n",
    "    f4.write(\"\\n\")\n",
    "    \n",
    "f4.close()"
   ]
  },
  {
   "cell_type": "markdown",
   "metadata": {},
   "source": [
    "### write和append模式的概念差別在於：write是檔案覆蓋的概念，append是檔案的疊加"
   ]
  },
  {
   "cell_type": "code",
   "execution_count": 82,
   "metadata": {},
   "outputs": [
    {
     "name": "stdout",
     "output_type": "stream",
     "text": [
      "Done!\n",
      "--------------------------------------------------\n",
      "['貨品分類,中文貨名,英文貨名,國家,數量,數量單位,重量,重量單位,價值\\n', '3032300007,冷凍吳郭魚,\" Tilapias, frozen\",巴林,0,-   ,8000,KGM ,411\\n', '3032300007,冷凍吳郭魚,\" Tilapias, frozen\",日本,0,-   ,10800,KGM ,696\\n', '3032300007,冷凍吳郭魚,\" Tilapias, frozen\",加拿大,0,-   ,108631,KGM ,7365\\n', '3032300007,冷凍吳郭魚,\" Tilapias, frozen\",沙烏地阿拉伯,0,-   ,503000,KGM ,24919\\n', '3032300007,冷凍吳郭魚,\" Tilapias, frozen\",其他大洋洲國家,0,-   ,11695,KGM ,729\\n', '3032300007,冷凍吳郭魚,\" Tilapias, frozen\",阿拉伯聯合大公國,0,-   ,29000,KGM ,1274\\n', '3032300007,冷凍吳郭魚,\" Tilapias, frozen\",科威特,0,-   ,121536,KGM ,6128\\n', '3032300007,冷凍吳郭魚,\" Tilapias, frozen\",美國,0,-   ,749982,KGM ,46022\\n', '3032300007,冷凍吳郭魚,\" Tilapias, frozen\",香港,0,-   ,72,KGM ,2\\n', '3032300007,冷凍吳郭魚,\" Tilapias, frozen\",澳大利亞,0,-   ,69570,KGM ,4786\\n', '3032300007,冷凍吳郭魚,\" Tilapias, frozen\",關島,0,-   ,8618,KGM ,458\\n', '12019000104,黑豆，不論是否破碎,\" Black soybeans, whether or not broken\",加拿大,0,-   ,0,TNE ,43\\n', '12019000104,黑豆，不論是否破碎,\" Black soybeans, whether or not broken\",美國,0,-   ,0,TNE ,9\\n', '12019000104,黑豆，不論是否破碎,\" Black soybeans, whether or not broken\",菲律賓,0,-   ,0,TNE ,6\\n', '52114200005,牛仔布, Denim,中國大陸,11398,MTK ,1991,KGM ,902\\n', '52114200005,牛仔布, Denim,日本,14364,MTK ,3898,KGM ,1596\\n', '52114200005,牛仔布, Denim,印尼,21998,MTK ,3869,KGM ,1543\\n', '52114200005,牛仔布, Denim,印度,7212,MTK ,2185,KGM ,513\\n', '52114200005,牛仔布, Denim,柬埔寨,28081,MTK ,9915,KGM ,2469\\n', '52114200005,牛仔布, Denim,馬來西亞,8925,MTK ,3598,KGM ,575\\n', '52114200005,牛仔布, Denim,越南,139191,MTK ,53225,KGM ,12330\\n', '52114200005,牛仔布, Denim,賴索托,6894,MTK ,2771,KGM ,435\\n']\n"
     ]
    }
   ],
   "source": [
    "# with 語法：將檔案開啟，省略open與close()的語法。with是可以執行完程式後自動關閉。\n",
    "# with 伴隨著 open...as\n",
    "\n",
    "with open(\"20190509_sample.csv\",mode=\"r\",encoding=\"utf8\") as f5:\n",
    "    data2 = f5.readlines()\n",
    "    \n",
    "print(\"Done!\")    \n",
    "    \n",
    "print(\"-\"*50)\n",
    "print(data2)"
   ]
  },
  {
   "cell_type": "markdown",
   "metadata": {},
   "source": [
    "## 函式(def)"
   ]
  },
  {
   "cell_type": "code",
   "execution_count": 86,
   "metadata": {},
   "outputs": [
    {
     "name": "stdout",
     "output_type": "stream",
     "text": [
      "Name:  Lilian\n",
      "Age:  15\n"
     ]
    }
   ],
   "source": [
    "# 定義一個函式\n",
    "def sayMyName(name, age):\n",
    "    print(\"Name: \", name)\n",
    "    print(\"Age: \", age)\n",
    "\n",
    "# 呼叫 函式\n",
    "\n",
    "sayMyName(\"Lilian\", 15)\n"
   ]
  },
  {
   "cell_type": "code",
   "execution_count": 101,
   "metadata": {},
   "outputs": [
    {
     "name": "stdout",
     "output_type": "stream",
     "text": [
      "Name:  Lilian\n",
      "Age:  15\n",
      "Remark: ABC\n",
      "--------------------------------------------------\n",
      "Name:  Eve\n",
      "Age:  14\n",
      "Remark: ABC\n"
     ]
    }
   ],
   "source": [
    "# 參數可以是預設值\n",
    "# 預設值的輸入參數一定要放在所有參數的最後\n",
    "def sayMyName1(name, age, remark = \"ABC\"):\n",
    "    print(\"Name: \", name)\n",
    "    print(\"Age: \", age)\n",
    "    print(\"Remark:\", remark)\n",
    "    \n",
    "# 呼叫 函式\n",
    "\n",
    "sayMyName1(\"Lilian\", 15)\n",
    "print(\"-\"*50)\n",
    "sayMyName1(\"Eve\", 14)"
   ]
  },
  {
   "cell_type": "code",
   "execution_count": 148,
   "metadata": {},
   "outputs": [
    {
     "name": "stdout",
     "output_type": "stream",
     "text": [
      "Line :  1  ,  Message :  Hello World!\n",
      "Line :  2  ,  Message :  python test!\n",
      "Line :  3  ,  Message :  ~~~~~~~~~~~\n",
      "--------------------------------------------------\n",
      "Line :  1  ,  Message :  今天是週四\n",
      "Line :  2  ,  Message :  明天是週五\n",
      "Line :  3  ,  Message :  但我還要弄論文\n",
      "Line :  4  ,  Message :  所以也沒有什麼放不放假的事\n",
      "Line :  5  ,  Message :  桑心~~~~~~\n",
      "--------------------------------------------------\n",
      "Line :  1  ,  Message :  Avengers\n",
      "Line :  2  ,  Message :  每天都在下雨\n",
      "Line :  3  ,  Message :  py~~~~~thon\n",
      "Line :  4  ,  Message :  Anaconda\n",
      "Line :  5  ,  Message :  原萃綠茶\n",
      "Line :  6  ,  Message :  Avengers\n",
      "Line :  7  ,  Message :  每天都在下雨\n",
      "Line :  8  ,  Message :  py~~~~~thon\n",
      "Line :  9  ,  Message :  Anaconda\n",
      "Line :  10  ,  Message :  原萃綠茶\n"
     ]
    }
   ],
   "source": [
    "# 將前面test1 & test2 & test3 寫入\n",
    "def readData(dataName):\n",
    "    f6 = open(dataName, mode = \"r\")\n",
    "    files = f6.readlines()\n",
    "    \n",
    "    z = 1 \n",
    "    for w in files:\n",
    "        print(\"Line : \" , z , \" , \" , \"Message : \", w.strip())\n",
    "        z += 1\n",
    "\n",
    "readData(\"20190509test1.txt\")    \n",
    "print(\"-\"*50)\n",
    "readData(\"20190509test2.txt\")\n",
    "print(\"-\"*50)\n",
    "readData(\"20190509test3.txt\")"
   ]
  },
  {
   "cell_type": "code",
   "execution_count": 107,
   "metadata": {
    "scrolled": true
   },
   "outputs": [
    {
     "name": "stdout",
     "output_type": "stream",
     "text": [
      "105\n",
      "None\n"
     ]
    }
   ],
   "source": [
    "# 函式中可進行運算\n",
    "# 使用return，函式可回傳運算結果(使用return端看你的需求，也可不使用)\n",
    "def add(a,b):\n",
    "    return a+b\n",
    "\n",
    "result1 = add (42,63)\n",
    "print(result1)\n",
    "\n",
    "# 若沒有加入return回傳結果\n",
    "\n",
    "def add2 (a,b,c):\n",
    "    k = a+b+c\n",
    "    \n",
    "result2 = add2(35, 74, 36)\n",
    "print(result2)\n",
    "\n",
    "# 結果會回傳空值(None)"
   ]
  },
  {
   "cell_type": "markdown",
   "metadata": {},
   "source": [
    "### func.的實戰演練"
   ]
  },
  {
   "cell_type": "code",
   "execution_count": 110,
   "metadata": {
    "collapsed": true
   },
   "outputs": [
    {
     "name": "stdout",
     "output_type": "stream",
     "text": [
      "411\n",
      "696\n",
      "7365\n",
      "24919\n",
      "729\n",
      "1274\n",
      "6128\n",
      "46022\n",
      "2\n",
      "4786\n",
      "458\n",
      "43\n",
      "9\n",
      "6\n",
      "902\n",
      "1596\n",
      "1543\n",
      "513\n",
      "2469\n",
      "575\n",
      "12330\n",
      "435\n",
      "==================================================\n",
      "Sum: 113211\n"
     ]
    }
   ],
   "source": [
    "with open(\"20190509_sample.csv\", mode = \"r\", encoding = \"utf8\") as inFile:\n",
    "    _data = inFile.readlines()\n",
    "\n",
    "# 想知道我這批貨的總價值多少？\n",
    "# 將資料最後一位(每一批貨價值多少美金)進行相加\n",
    "\n",
    "_data = _data[1:]\n",
    "\n",
    "# 把每個值都取出來，最後加總\n",
    "valueSum = 0\n",
    "for w in _data:\n",
    "    value = w.strip().split(\",\")[-1]\n",
    "    \n",
    "    valueSum += int(value) #value會被看成是str形式，因此若沒有轉換成int，會報錯！\n",
    "    print(value)\n",
    "\n",
    "print(\"=\"*50)\n",
    "print(\"Sum:\", valueSum)"
   ]
  },
  {
   "cell_type": "code",
   "execution_count": null,
   "metadata": {},
   "outputs": [],
   "source": [
    "# 將上面的每個步驟都設定成不同的function\n",
    "# 這一步還沒搞定~~~~~~~~~~~~~~~~~~~~~~~~~~~~~~~~~~~~~~~~~~~~~~~\n",
    "\n",
    "def readData1(dataName):\n",
    "    f7=open(dataName)"
   ]
  },
  {
   "cell_type": "markdown",
   "metadata": {},
   "source": [
    "## 小測試\n"
   ]
  },
  {
   "cell_type": "code",
   "execution_count": 123,
   "metadata": {},
   "outputs": [
    {
     "name": "stdout",
     "output_type": "stream",
     "text": [
      "Value1: 24\n",
      "Value2: 4\n"
     ]
    },
    {
     "data": {
      "text/plain": [
       "(28, 14.0)"
      ]
     },
     "execution_count": 123,
     "metadata": {},
     "output_type": "execute_result"
    }
   ],
   "source": [
    "# 1. 設計一個func.，可以讓使用者輸入兩個數字，並計算兩數的總合及平均\n",
    "\n",
    "\n",
    "def sumAndAvg ():\n",
    "    v1 = input(\"Value1: \")\n",
    "    v2 = input(\"Value2: \")\n",
    "    SUM = int(v1) + int(v2)\n",
    "    AVG = SUM /2\n",
    "    return(SUM, AVG)\n",
    "\n",
    "sumAndAvg()"
   ]
  },
  {
   "cell_type": "code",
   "execution_count": 140,
   "metadata": {},
   "outputs": [
    {
     "name": "stdout",
     "output_type": "stream",
     "text": [
      "SUM: 1431\n",
      "SUM: 1431\n"
     ]
    }
   ],
   "source": [
    "# 2. 設計一個func.，可回傳1+2+3+.....+n的值，n為輸入參數\n",
    "\n",
    "# 演練方法1\n",
    "def numSum(n):\n",
    "    i = 1\n",
    "    SUM = 0\n",
    "    while i <= n:\n",
    "        SUM += i\n",
    "        i += 1\n",
    "    print(\"SUM:\", SUM)\n",
    "numSum(53)\n",
    "\n",
    "# 演練方法2\n",
    "def numSum2(n):\n",
    "    SUM = sum(range(0,n+1))\n",
    "    print(\"SUM:\", SUM)\n",
    "\n",
    "numSum2(53)"
   ]
  },
  {
   "cell_type": "code",
   "execution_count": 13,
   "metadata": {},
   "outputs": [
    {
     "name": "stdout",
     "output_type": "stream",
     "text": [
      "第n項的Result:  55\n",
      "==================================================\n",
      "第 1 項： 1\n",
      "第 2 項： 1\n",
      "第 3 項： 2\n",
      "第 4 項： 3\n",
      "第 5 項： 5\n",
      "第 6 項： 8\n",
      "第 7 項： 13\n",
      "第 8 項： 21\n",
      "第 9 項： 34\n",
      "第 10 項： 55\n"
     ]
    }
   ],
   "source": [
    "# 費氏數列為 1,1,2,3,5,8,13,21,...\n",
    "# 試設計一個func.，輸入為n，回傳遞n項費氏數列值\n",
    "\n",
    "def fibonacciSequence(n):\n",
    "    \n",
    "    # 1. 先定義前兩個數字，如果n第1個或第2個數的話，讓它回傳1\n",
    "    if n == 1 or n == 2:\n",
    "        return 1\n",
    "    \n",
    "    # 2. 先定義第一個與第二個數，最終要得到的結果是 result = a0 + a1\n",
    "    a0 = 1\n",
    "    a1 = 1\n",
    "\n",
    "    # 3. 開始進行後續數列自動計算的程式編寫，採用loop的方式\n",
    "    for i in range(n-2):\n",
    "        result = a0 + a1 # 先進行前兩個數字相加  \n",
    "        a0 = a1 #下一次進行計算的數字開始往後推移一格，形成新的a0定義\n",
    "                #新的 a0 會是等於上一次的 a1\n",
    "        a1 = result  # 新的a1會等於上一次的 result值\n",
    "    return result \n",
    "    \n",
    "num = 10\n",
    "print(\"第n項的Result: \",  fibonacciSequence(num))\n",
    "print(\"=\"*50)\n",
    "\n",
    "# 看一下從第 1 項到第 n 項的數字為何\n",
    "for i in range(1, num+1):\n",
    "    print(\"第\", i, \"項：\",  fibonacciSequence(i))"
   ]
  },
  {
   "cell_type": "code",
   "execution_count": null,
   "metadata": {},
   "outputs": [],
   "source": []
  },
  {
   "cell_type": "code",
   "execution_count": null,
   "metadata": {},
   "outputs": [],
   "source": []
  },
  {
   "cell_type": "code",
   "execution_count": null,
   "metadata": {},
   "outputs": [],
   "source": []
  },
  {
   "cell_type": "code",
   "execution_count": null,
   "metadata": {},
   "outputs": [],
   "source": []
  },
  {
   "cell_type": "code",
   "execution_count": null,
   "metadata": {},
   "outputs": [],
   "source": []
  },
  {
   "cell_type": "code",
   "execution_count": null,
   "metadata": {},
   "outputs": [],
   "source": []
  }
 ],
 "metadata": {
  "kernelspec": {
   "display_name": "Python 3",
   "language": "python",
   "name": "python3"
  },
  "language_info": {
   "codemirror_mode": {
    "name": "ipython",
    "version": 3
   },
   "file_extension": ".py",
   "mimetype": "text/x-python",
   "name": "python",
   "nbconvert_exporter": "python",
   "pygments_lexer": "ipython3",
   "version": "3.7.0"
  }
 },
 "nbformat": 4,
 "nbformat_minor": 2
}
