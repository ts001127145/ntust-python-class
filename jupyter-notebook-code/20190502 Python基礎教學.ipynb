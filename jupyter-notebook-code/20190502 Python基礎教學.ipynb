{
 "cells": [
  {
   "cell_type": "markdown",
   "metadata": {},
   "source": [
    "## 資料型別1\n",
    "\n",
    "### 數值型別\n",
    "1. int:整數型，integer的縮寫。\n",
    "2. float:浮點數，可以儲存具有小數點的數值。\n",
    "3. bool:boolean的縮寫，包括True、False與None，分別代表真、假、**空值**的概念。\n",
    "4. complex:數學上的虛數，以complex(x,y)的形式出現。其中，x為實部，y為虛部的數字。\n",
    "\n",
    "### 字串型別\n",
    "* str:可利用index提取字串內的值，ex: x = \"book\", x[0]=\"b\"。所有的index值都是從0開始。"
   ]
  },
  {
   "cell_type": "code",
   "execution_count": 6,
   "metadata": {},
   "outputs": [
    {
     "name": "stdout",
     "output_type": "stream",
     "text": [
      "7\n",
      "3\n",
      "10\n",
      "4\n",
      "========\n",
      "3.0\n",
      "10.0\n",
      "5.9025\n",
      "========\n",
      "False\n",
      "False\n",
      "========\n",
      "Hello\n",
      "Hello!!!\n",
      "========\n",
      "10002\n",
      "10002\n",
      "123\n",
      "789\n"
     ]
    }
   ],
   "source": [
    "### int\n",
    "x=int(7)\n",
    "y=int(3)\n",
    "\n",
    "print(x)\n",
    "print(y)\n",
    "\n",
    "print(x+y)\n",
    "\n",
    "z=7\n",
    "w=3\n",
    "print(z-w)\n",
    "\n",
    "print(\"========\")\n",
    "\n",
    "### float\n",
    "a= float(3)\n",
    "b= float(10)\n",
    "\n",
    "print(a)\n",
    "print(b)\n",
    "\n",
    "c= 3.1415\n",
    "d= 2.761\n",
    "\n",
    "print(c+d)\n",
    "\n",
    "print(\"========\")\n",
    "\n",
    "### Bool\n",
    "e=True\n",
    "f=False\n",
    "h=False\n",
    "print(e and f)\n",
    "print(e and f and h)\n",
    "\n",
    "print(\"========\")\n",
    "\n",
    "### Str\n",
    "word  = \"Hello\"\n",
    "word2 = \"Hello!!!\"\n",
    "print(word)\n",
    "print(word2)\n",
    "\n",
    "\n",
    "print(\"========\")\n",
    "\n",
    "num = 10002\n",
    "memberNo = 10002\n",
    "print(num)\n",
    "print(memberNo)\n",
    "\n",
    "validcaseno = 456\n",
    "validCaseNo = 123\n",
    "valid_case_no = 789\n",
    "\n",
    "print(validCaseNo)\n",
    "print(valid_case_no)"
   ]
  },
  {
   "cell_type": "markdown",
   "metadata": {},
   "source": [
    "## Input and Print\n",
    "\n",
    "* print:輸入結果到畫面，預設是sys.stdout(標準輸出)\n",
    "* input:等待使用者輸入參數，預設是sys.stdout(標準輸入)\n",
    "* type:檢視變數／物件的資料類型"
   ]
  },
  {
   "cell_type": "code",
   "execution_count": 10,
   "metadata": {},
   "outputs": [
    {
     "name": "stdout",
     "output_type": "stream",
     "text": [
      "5\n",
      "<class 'str'>\n"
     ]
    }
   ],
   "source": [
    "# input的使用方法及輸入內容的類型\n",
    "z = input()\n",
    "#print(z)\n",
    "print(type(z))"
   ]
  },
  {
   "cell_type": "code",
   "execution_count": 11,
   "metadata": {},
   "outputs": [
    {
     "name": "stdout",
     "output_type": "stream",
     "text": [
      "123\n",
      "2.14\n",
      "<class 'int'>\n",
      "<class 'float'>\n",
      "==============\n"
     ]
    }
   ],
   "source": [
    "# 檢視資料類型，使用type\n",
    "a = 123\n",
    "b = 2.14\n",
    "print(a)\n",
    "print(b)\n",
    "print(type(a))\n",
    "print(type(b))\n",
    "\n",
    "print(\"==============\")"
   ]
  },
  {
   "cell_type": "markdown",
   "metadata": {},
   "source": [
    "## 字符串類型的常用功能\n",
    "\n",
    "* 包括：format, [:], split, join, strip, startswith, replace, find"
   ]
  },
  {
   "cell_type": "code",
   "execution_count": 16,
   "metadata": {
    "scrolled": true
   },
   "outputs": [
    {
     "name": "stdout",
     "output_type": "stream",
     "text": [
      "Hi! I'm Lilian.\n",
      "Hi! I'm Lilian, and you're Eve.\n",
      "====================\n",
      "book\n",
      "This is a b\n",
      "====================\n",
      "['This', 'is', 'a', 'dog.']\n",
      "['This is a dog.']\n",
      "====================\n",
      "StevenJCAriel\n",
      "Steven,JC,Ariel\n",
      "Steven____JC____Ariel\n",
      "Steven____JC____Ariel____smallC\n",
      "====================\n",
      "                Lilian\n",
      "Lilian\n",
      "====================\n",
      "True\n",
      "False\n",
      "<class 'bool'>\n",
      "====================\n",
      "Red Tea.\n",
      "====================\n",
      "6\n",
      "====================\n"
     ]
    }
   ],
   "source": [
    "# 1. .format：字符串模板，使用變數合成字串\n",
    "\n",
    "name1 = \"Lilian\"\n",
    "name2 = \"Eve\"\n",
    "w1 = \"Hi! I'm {}.\"\n",
    "w11 = \"Hi! I'm {}, and you're {}.\"\n",
    "print(w1.format(name1))\n",
    "print(w11.format(name1,name2))\n",
    "\n",
    "print(\"=\"*20)\n",
    "\n",
    "# 2. [:] ：利用字串index取值\n",
    "\n",
    "w2 = \"This is a book\"\n",
    "print(w2[10:])\n",
    "print(w2[:-3])\n",
    "\n",
    "print(\"=\"*20)\n",
    "\n",
    "# 3. .split：字串分割\n",
    "\n",
    "w3 = \"This is a dog.\"\n",
    "print(w3.split(\" \"))\n",
    "print(w3.split(\",\"))\n",
    "\n",
    "print(\"=\"*20)\n",
    "\n",
    "\n",
    "# 4. .join：字串合併\n",
    "\n",
    "w5 = \"\".join([\"Steven\",\"JC\",\"Ariel\"])\n",
    "w51 = \",\".join([\"Steven\",\"JC\",\"Ariel\"])\n",
    "w52 = \"____\".join([\"Steven\",\"JC\",\"Ariel\"])\n",
    "w53 = \"____\".join([\"Steven\",\"JC\",\"Ariel\",\"smallC\"])\n",
    "\n",
    "print(w5)\n",
    "print(w51)\n",
    "print(w52)\n",
    "print(w53)\n",
    "\n",
    "print(\"=\"*20)\n",
    "\n",
    "# 5. .strip：頭尾空白去除\n",
    "\n",
    "w6 = \"                Lilian\"\n",
    "print(w6)\n",
    "print(w6.strip())\n",
    "\n",
    "print(\"=\"*20)\n",
    "\n",
    "# 6. .startswith：是否以...為開頭\n",
    "\n",
    "w7 = \"Avenger Assemble!\"\n",
    "print(w7.startswith(\"Avenger\"))\n",
    "print(w7.startswith(\"test\"))\n",
    "print(type(w7.startswith(\"test\")))  # 結果應該要是出現boolean值\n",
    "\n",
    "print(\"=\"*20)\n",
    "\n",
    "# 7. .replace：取代、以....替換子字串\n",
    "\n",
    "w8 = \"Green Tea.\"\n",
    "print(w8.replace(\"Green\", \"Red\"))\n",
    "\n",
    "print(\"=\"*20)\n",
    "\n",
    "# 8. .find：找尋子字串的第一個index值\n",
    "\n",
    "w9 = \"Today is a good day.\"\n",
    "print(w9.find(\"is\"))\n",
    "\n",
    "print(\"=\"*20)"
   ]
  },
  {
   "cell_type": "markdown",
   "metadata": {},
   "source": [
    "### 編碼\n",
    "* python3.x將字串分做**str&byte**兩種物件。前者為**Unicode**，後者為**編碼**狀態。\n",
    "* 可透過.encode()轉換成特定邊碼，ex:utf-8\n",
    "* 亦可透過.decode()轉回str物件(Unicode)"
   ]
  },
  {
   "cell_type": "code",
   "execution_count": 27,
   "metadata": {},
   "outputs": [
    {
     "name": "stdout",
     "output_type": "stream",
     "text": [
      "Jeff\n",
      "b'Jeff'\n",
      "====================\n",
      "車良靜\n",
      "b'\\xe8\\xbb\\x8a\\xe8\\x89\\xaf\\xe9\\x9d\\x9c'\n",
      "<class 'str'>\n",
      "<class 'bytes'>\n",
      "b'\\xe8\\xbb\\x8a\\xe8\\x89\\xaf\\xe9\\x9d\\x9c'\n",
      "è»è¯é\n",
      "<class 'bytes'>\n",
      "<class 'str'>\n",
      "車良靜\n"
     ]
    }
   ],
   "source": [
    "# 編碼\n",
    "# .encode 將中文轉成 utf8\n",
    "test1 = \"Jeff\"\n",
    "print(test1)\n",
    "print(test1.encode(\"utf8\"))\n",
    "\n",
    "print(\"=\"*20)\n",
    "\n",
    "test2 = \"車良靜\"\n",
    "print(test2)\n",
    "print(test2.encode(\"utf8\"))\n",
    "\n",
    "# 原先的test2應是str，編碼後會變成byte類型\n",
    "\n",
    "print(type(test2))\n",
    "print(type(test2.encode(\"utf8\")))\n",
    "\n",
    "# byte類別前面一定會出現一個b，若沒有b的話，就會出現很恐怖的東西.....\n",
    "\n",
    "test3 = b'\\xe8\\xbb\\x8a\\xe8\\x89\\xaf\\xe9\\x9d\\x9c'\n",
    "test4 = '\\xe8\\xbb\\x8a\\xe8\\x89\\xaf\\xe9\\x9d\\x9c'\n",
    "print(test3)\n",
    "print(test4)\n",
    "\n",
    "print(type(test3))\n",
    "print(type(test4))  # 前面沒有b的話，類型就會是str\n",
    "\n",
    "# 轉譯回中文字\n",
    "print(test3.decode(\"utf8\"))\n"
   ]
  },
  {
   "cell_type": "markdown",
   "metadata": {},
   "source": [
    "## 運算子\n",
    "\n",
    "* 包括**算術運算子**：+ , - , * , ** , / , // , %  \n",
    "* 也包括**關係運算子**：數值比較(>=<)、邏輯比較(and, or, not)、in(判斷是否在一個**集合物件**中)、is(類似於==，但仍有差別，下面演練做進一步敘述)\n"
   ]
  },
  {
   "cell_type": "code",
   "execution_count": 13,
   "metadata": {},
   "outputs": [
    {
     "name": "stdout",
     "output_type": "stream",
     "text": [
      "34.17\n",
      "abcjdk\n",
      "--------------------\n",
      "234.89\n",
      "<class 'float'>\n",
      "--------------------\n",
      "291.75504\n",
      "abcabcabcabcabcabcabcabcabcabcabcabcabcabcabcabcabcabcabcabc\n",
      "--------------------\n",
      "1024\n",
      "243\n",
      "--------------------\n",
      "-2.015748031496063\n",
      "--------------------\n",
      "25\n",
      "--------------------\n",
      "2\n"
     ]
    }
   ],
   "source": [
    "## +\n",
    "r1 = 32 + 2.17\n",
    "r2 = \"abc\" + \"jdk\"\n",
    "# r3 = 25 + \"abc\"   \n",
    "# r4 = 50 + \"123\"\n",
    "\n",
    "# 在python中，字符串與數字之間不可進行運算\n",
    "\n",
    "print(r1)\n",
    "print(r2)\n",
    "print(\"-\"*20)\n",
    "\n",
    "## -\n",
    "r5 = 256 - 21.11\n",
    "print(r5)\n",
    "print(type(r5)) \n",
    "# 整數型與浮點型進行運算時，運算後的數值類型會是浮點型\n",
    "\n",
    "print(\"-\"*20)\n",
    "\n",
    "## *\n",
    "r6 = 24 * 12.15646\n",
    "r7 = \"abc\"*20\n",
    "print(r6)\n",
    "print(r7)\n",
    "\n",
    "print(\"-\"*20)\n",
    "\n",
    "## ** \n",
    "r8 = 2**10\n",
    "r9 = 3**5\n",
    "print(r8)\n",
    "print(r9)\n",
    "\n",
    "print(\"-\"*20)\n",
    "\n",
    "## /\n",
    "r10 = -256/127\n",
    "print(r10)\n",
    "\n",
    "print(\"-\"*20)\n",
    "\n",
    "## // 取整\n",
    "r11 = 127//5\n",
    "print(r11)\n",
    "\n",
    "print(\"-\"*20)\n",
    "\n",
    "## % 取餘  \n",
    "r12 = 563%11\n",
    "print(r12)\n"
   ]
  },
  {
   "cell_type": "code",
   "execution_count": 14,
   "metadata": {},
   "outputs": [
    {
     "name": "stdout",
     "output_type": "stream",
     "text": [
      "True\n",
      "False\n",
      "False\n"
     ]
    }
   ],
   "source": [
    "# 關係運算子\n",
    "# > , < , == 數值比較\n",
    "r13 = 12>5\n",
    "r14 = 1027%2 == 0 # 1027取餘數是不是0\n",
    "print(r13)\n",
    "print(r14)\n",
    "\n",
    "# and, or, not 邏輯比較，結果會出現 True 或 False\n",
    "print(r13 and r14)"
   ]
  },
  {
   "cell_type": "code",
   "execution_count": 15,
   "metadata": {},
   "outputs": [
    {
     "name": "stdout",
     "output_type": "stream",
     "text": [
      "r15 == r16: False\n",
      "r15 == r17: True\n",
      "－－－－－－－－－－－－－－－－－－－－\n",
      "r15 is r16: False\n",
      "r15 is r17: True\n",
      "====================\n",
      "r18 == r19: False\n",
      "r18 == r20: True\n",
      "－－－－－－－－－－－－－－－－－－－－\n",
      "r18 is r19: False\n",
      "r18 is r20: False\n"
     ]
    }
   ],
   "source": [
    "# is 與 == 的差別\n",
    "# a 是否存在在陣列(list)裡面\n",
    "\n",
    "r15 = 123\n",
    "r16 = 456\n",
    "r17 = 123\n",
    "print(\"r15 == r16:\",r15 == r16)\n",
    "print(\"r15 == r17:\",r15 == r17)\n",
    "print(\"－\"*20)\n",
    "print(\"r15 is r16:\",r15 is r16)\n",
    "print(\"r15 is r17:\",r15 is r17)\n",
    "\n",
    "# 從上面的情況來看(變量是數字或字符串時)，is 和 == 結果會是一樣的\n",
    "print(\"=\"*20)\n",
    "\n",
    "# 但當變量為\"物件(object)\"時，is 和 == 結果就會出現差異！\n",
    "r18 = [1,2,3]\n",
    "r19 = [4,5,6]\n",
    "r20 = [1,2,3]\n",
    "\n",
    "print(\"r18 == r19:\",r18 == r19)\n",
    "print(\"r18 == r20:\",r18 == r20)\n",
    "print(\"－\"*20)\n",
    "print(\"r18 is r19:\",r18 is r19)\n",
    "print(\"r18 is r20:\",r18 is r20)\n"
   ]
  },
  {
   "cell_type": "markdown",
   "metadata": {},
   "source": [
    "## 流程控制\n",
    "* 基本的if-else\n",
    "* if-elif-...-else多重論述"
   ]
  },
  {
   "cell_type": "code",
   "execution_count": 44,
   "metadata": {},
   "outputs": [
    {
     "name": "stdout",
     "output_type": "stream",
     "text": [
      "Positive!\n"
     ]
    }
   ],
   "source": [
    "# if-else論述\n",
    "x = 123\n",
    "# x = -1.453  # 結果會是negative\n",
    "if x>0:\n",
    "    print(\"Positive!\")\n",
    "else:\n",
    "    print(\"Negative\")"
   ]
  },
  {
   "cell_type": "code",
   "execution_count": 3,
   "metadata": {},
   "outputs": [
    {
     "name": "stdout",
     "output_type": "stream",
     "text": [
      "A\n"
     ]
    }
   ],
   "source": [
    "# if-elif-...-else 多重論述\n",
    "\n",
    "x = 143\n",
    "if x > 0:\n",
    "    print(\"A\")\n",
    "elif x >= 0 and x < 100:\n",
    "    print(\"B\")\n",
    "else:\n",
    "    print(\"C\")"
   ]
  },
  {
   "cell_type": "markdown",
   "metadata": {},
   "source": [
    "## 小測試"
   ]
  },
  {
   "cell_type": "code",
   "execution_count": 2,
   "metadata": {},
   "outputs": [
    {
     "name": "stdout",
     "output_type": "stream",
     "text": [
      "15\n",
      "17.5\n",
      "262.5\n",
      "65.0\n"
     ]
    }
   ],
   "source": [
    "# Practice1\n",
    "#試寫一個程式，提示使用者輸入長&寬，計算矩形的面積與周長\n",
    "\n",
    "Weight = input()\n",
    "Height = input()\n",
    "Area = float(Weight)*float(Height)\n",
    "Parameter = 2 * (float(Weight)+float(Height))\n",
    "print(Area)\n",
    "print(Parameter)"
   ]
  },
  {
   "cell_type": "code",
   "execution_count": 61,
   "metadata": {},
   "outputs": [
    {
     "name": "stdout",
     "output_type": "stream",
     "text": [
      "this is a buck\n",
      "this is a fuck\n"
     ]
    }
   ],
   "source": [
    "# Practice2\n",
    "# 試寫一個程式，將使用者輸入的字串取代\n",
    "Message = input()\n",
    "# 輸入 this is a buck\n",
    "print(Message.replace(\"b\",\"f\"))"
   ]
  },
  {
   "cell_type": "code",
   "execution_count": 62,
   "metadata": {},
   "outputs": [
    {
     "name": "stdout",
     "output_type": "stream",
     "text": [
      "Johny is good, Leo is handsome, and Jeff is single...\n"
     ]
    }
   ],
   "source": [
    "# Pracetice3\n",
    "# 嘗試用str.format打印出來\n",
    "\n",
    "a = \"Jeff\"\n",
    "b = \"Leo\"\n",
    "c = \"Johny\"\n",
    "str = \"{} is good, {} is handsome, and {} is single...\"\n",
    "print(str.format(c,b,a))"
   ]
  },
  {
   "cell_type": "code",
   "execution_count": 1,
   "metadata": {},
   "outputs": [
    {
     "name": "stdout",
     "output_type": "stream",
     "text": [
      "5\n",
      "young\n"
     ]
    }
   ],
   "source": [
    "# Practice4\n",
    "# 試寫一個程式，請使用者輸入一數字，並按規則顯示下列訊息：\n",
    "# 0<= n <30 : young\n",
    "# 30<= n <60 : strong\n",
    "# n>= 60 : old\n",
    "# n<0 : 'n' must be larger than 0 \n",
    "\n",
    "num = input()\n",
    "num = int(num) #把舊的 num 值轉換為新的int類型的 num 值\n",
    "\n",
    "if num>=0 and num<30:\n",
    "    print(\"young\")\n",
    "elif num>=30 and num<60:\n",
    "    print(\"strong\")\n",
    "elif num>=60:\n",
    "    print(\"old\")\n",
    "else:\n",
    "    print(\"'n'must be larger than 0\")"
   ]
  },
  {
   "cell_type": "code",
   "execution_count": null,
   "metadata": {},
   "outputs": [],
   "source": []
  },
  {
   "cell_type": "code",
   "execution_count": null,
   "metadata": {},
   "outputs": [],
   "source": []
  }
 ],
 "metadata": {
  "kernelspec": {
   "display_name": "Python 3",
   "language": "python",
   "name": "python3"
  },
  "language_info": {
   "codemirror_mode": {
    "name": "ipython",
    "version": 3
   },
   "file_extension": ".py",
   "mimetype": "text/x-python",
   "name": "python",
   "nbconvert_exporter": "python",
   "pygments_lexer": "ipython3",
   "version": "3.7.0"
  }
 },
 "nbformat": 4,
 "nbformat_minor": 2
}
