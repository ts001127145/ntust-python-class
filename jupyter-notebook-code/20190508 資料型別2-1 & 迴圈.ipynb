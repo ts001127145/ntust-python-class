{
 "cells": [
  {
   "cell_type": "markdown",
   "metadata": {},
   "source": [
    "## 資料型別2-1\n",
    "\n",
    "### 串列(list)"
   ]
  },
  {
   "cell_type": "code",
   "execution_count": 16,
   "metadata": {
    "scrolled": true
   },
   "outputs": [
    {
     "name": "stdout",
     "output_type": "stream",
     "text": [
      "[80, 75, 65, 99, 42, 100, 80, 72, 123]\n",
      "65\n",
      "123\n"
     ]
    }
   ],
   "source": [
    "# list 使用\"[]\"表示\n",
    "# 創建一個list\n",
    "scores = [80, 75, 65, 99, 42, 100, 80, 72,123]\n",
    "print(scores)\n",
    "# 呼叫某個值，用index的概念\n",
    "print(scores[2])\n",
    "print(scores[-1])"
   ]
  },
  {
   "cell_type": "markdown",
   "metadata": {},
   "source": [
    "## 常用功能\n",
    "\n",
    "* .append(x)：加入x元素於list尾端\n",
    "* .pop(i)：將list內index為i的元素拔除\n",
    "* list[a:b]：取list從 index = a到b的元素，形成sub-list\n",
    "* .index(x)：回傳元素值x的index值"
   ]
  },
  {
   "cell_type": "code",
   "execution_count": 18,
   "metadata": {},
   "outputs": [
    {
     "name": "stdout",
     "output_type": "stream",
     "text": [
      "[80, 75, 99, 42, 100, 80, 72, 123, 15, 16, 45]\n",
      "[80, 75, 99, 42, 100, 80, 72, 123, 15, 16, 45, 15]\n",
      "[80, 75, 99, 42, 100, 80, 72, 123, 15, 16, 45, 15, 16, 45]\n",
      "==================================================\n",
      "[80, 75, 42, 100, 80, 72, 123, 15, 16, 45, 15, 16, 45]\n",
      "==================================================\n",
      "[75, 42]\n",
      "[16, 45, 15, 16]\n",
      "==================================================\n",
      "6\n"
     ]
    }
   ],
   "source": [
    "print(scores)\n",
    "# .append(x)\n",
    "\n",
    "scores.append(15) # .append()只能支援一個元素放入\n",
    "print(scores)\n",
    "\n",
    "#若要放入多個元素的話，可用.extend()\n",
    "scores.extend([16,45]) \n",
    "print(scores)\n",
    "\n",
    "print(\"=\"*50)\n",
    "\n",
    "#.pop(i)\n",
    "scores.pop(2)\n",
    "print(scores)\n",
    "\n",
    "print(\"=\"*50)\n",
    "\n",
    "#list[a:b](實際上寫程式時不需要寫出\"list\"，直接輸入index值就行)\n",
    "\n",
    "print(scores[1:3])\n",
    "print(scores[-5:-1])\n",
    "\n",
    "print(\"=\"*50)\n",
    "\n",
    "#.index(x)\n",
    "\n",
    "print(scores.index(123))\n",
    "# 若 list 中有多個元素值x，使用.index()只會回傳list中第一個x出現的位置"
   ]
  },
  {
   "cell_type": "code",
   "execution_count": 36,
   "metadata": {},
   "outputs": [
    {
     "name": "stdout",
     "output_type": "stream",
     "text": [
      "[123, [2, 3, 4], True, 'a', 'b']\n",
      "a,b,c,d,e\n",
      "a____b____c____d____e\n"
     ]
    }
   ],
   "source": [
    "# list中可以有不同形態的資料類型\n",
    "# list內元素可為任意型別：ex: test = [True, \"Lilian\", [2,3,4]]\n",
    "\n",
    "test = [123, [2,3,4], True, \"a\", \"b\"]\n",
    "print(test)\n",
    "\n",
    "# 將list中所有資料進行合併，使用.join()\n",
    "\n",
    "test2 = [\"a\", \"b\", \"c\", \"d\", \"e\"]\n",
    "print(\",\".join(test2))\n",
    "print(\"____\".join(test2))"
   ]
  },
  {
   "cell_type": "code",
   "execution_count": 19,
   "metadata": {},
   "outputs": [
    {
     "name": "stdout",
     "output_type": "stream",
     "text": [
      "SUM:  613\n",
      "AVG:  76.625\n"
     ]
    }
   ],
   "source": [
    "# 將list內數值進行計算(總和 & 平均)\n",
    "\n",
    "scores = [80, 75, 65, 99, 42, 100, 80, 72]\n",
    "\n",
    "SUM = sum(scores)\n",
    "AVG = SUM / len(scores)\n",
    "\n",
    "print(\"SUM: \", SUM)\n",
    "print(\"AVG: \", AVG)"
   ]
  },
  {
   "cell_type": "markdown",
   "metadata": {},
   "source": [
    "## 字典(dict)\n",
    "* 由 **key-value**組成的資料結構，便於查找\n",
    "* 適用於需要辨識的資料，或是將資料歸戶"
   ]
  },
  {
   "cell_type": "code",
   "execution_count": 19,
   "metadata": {},
   "outputs": [
    {
     "name": "stdout",
     "output_type": "stream",
     "text": [
      "{'Jeff': 80, 'Leo': 90, 'Keven': 65}\n",
      "80\n",
      "==================================================\n",
      "{'Jeff': 90, 'Leo': 90, 'Keven': 65, 'Lilian': 100}\n",
      "==================================================\n",
      "True\n",
      "False\n",
      "==================================================\n",
      "Keys:  dict_keys(['Jeff', 'Leo', 'Keven', 'Lilian'])\n",
      "<class 'dict'>\n",
      "<class 'dict_keys'>\n",
      "==================================================\n",
      "<class 'list'>\n",
      "<class 'list'>\n"
     ]
    }
   ],
   "source": [
    "# 使用 \"{}\" 表示\n",
    "# 創建一個 dict\n",
    "scoreDict = {\n",
    "    \"Jeff\":80,\n",
    "    \"Leo\":90,\n",
    "    \"Keven\":65\n",
    "}\n",
    "print(scoreDict)\n",
    "\n",
    "print(scoreDict[\"Jeff\"])  #輸入key找到對應的value\n",
    "\n",
    "print(\"=\"*50)\n",
    "\n",
    "# 若要在dict裡面新增或修改資料的話，可以直接使用賦值的方式進行修改\n",
    "\n",
    "scoreDict[\"Jeff\"]=90\n",
    "scoreDict[\"Lilian\"]=100\n",
    "print(scoreDict)\n",
    "\n",
    "print(\"=\"*50)\n",
    "\n",
    "# 搜尋所需資料是否在dict中\n",
    "print(\"Jeff\" in scoreDict)\n",
    "print(\"Apple\" in scoreDict)\n",
    "\n",
    "print(\"=\"*50)\n",
    "\n",
    "# 若要搜索key的話，需要使用.keys()\n",
    "\n",
    "print(\"Keys: \", scoreDict.keys())\n",
    "print(type(scoreDict))\n",
    "print(type(scoreDict.keys()))   # 此時搜索出來的資料會是 dict.keys的資料形式\n",
    "\n",
    "print(\"=\"*50)\n",
    "\n",
    "# 轉換成list的資料型態\n",
    "\n",
    "print(type(list(scoreDict)))\n",
    "print(type(list(scoreDict.keys())))"
   ]
  },
  {
   "cell_type": "code",
   "execution_count": 42,
   "metadata": {},
   "outputs": [
    {
     "name": "stdout",
     "output_type": "stream",
     "text": [
      "dict_values([80, 90, 65, 99, 32, 100])\n",
      "6\n",
      "SUM:  466\n",
      "AVG:  77.66666666666667\n"
     ]
    }
   ],
   "source": [
    "# 將 dict 中的資料做運算\n",
    "\n",
    "scoreDict2 = {\n",
    "    \"Jeff\":80,\n",
    "    \"Leo\":90,\n",
    "    \"Keven\":65,\n",
    "    \"Steve\":99,\n",
    "    \"Apple\":32,\n",
    "    \"Elle\":100\n",
    "}\n",
    "\n",
    "print(scoreDict2.values())\n",
    "print(len(scoreDict2))\n",
    "\n",
    "SUM = sum(scoreDict2.values())\n",
    "AVG = SUM / len(scoreDict2)\n",
    "\n",
    "print(\"SUM: \", SUM)\n",
    "print(\"AVG: \", AVG)"
   ]
  },
  {
   "cell_type": "markdown",
   "metadata": {},
   "source": [
    "## 數組(tuple)\n",
    "* 類似list，但長度固定後即**不可變動**，以下面的num為例，括號內的值若固定是4個的話，後續就無法變動了)\n",
    "* 使用\"()\"表示，ex: num = (1,4,3,\"test\")。"
   ]
  },
  {
   "cell_type": "markdown",
   "metadata": {},
   "source": [
    "## 集合(set)\n",
    "* 類似數學上集合的概念，會將相同元素視為同一物件"
   ]
  },
  {
   "cell_type": "code",
   "execution_count": 20,
   "metadata": {},
   "outputs": [
    {
     "name": "stdout",
     "output_type": "stream",
     "text": [
      "<class 'set'>\n",
      "<class 'set'>\n",
      "[1, 2, 3, 2, 4, 5, 6, 8, 4, 2, 32, 2, 2, 3]\n",
      "{32, 1, 2, 3, 4, 5, 6, 8}\n"
     ]
    }
   ],
   "source": [
    "# 使用\"{}\"表示\n",
    "# 創建兩個set\n",
    "s1 = {1,2,3,4,5,6}\n",
    "s2 = {4,5,6,7,8}\n",
    "\n",
    "print(type(s1))\n",
    "print(type(s2))\n",
    "\n",
    "# 將list轉換成set，進行重複值的過濾\n",
    "s3 = [1,2,3,2,4,5,6,8,4,2,32,2,2,3]\n",
    "print(s3)\n",
    "print(set(s3))\n"
   ]
  },
  {
   "cell_type": "markdown",
   "metadata": {},
   "source": [
    "# 迴圈"
   ]
  },
  {
   "cell_type": "markdown",
   "metadata": {},
   "source": [
    "### for-loop\n",
    "* 語法為for x in .....\n",
    "* 若迴圈次數已知，建議使用for-loop\n",
    "* in後面需要接**可迭代的物件**，ex: list, dict, tuple, str, range()"
   ]
  },
  {
   "cell_type": "code",
   "execution_count": 61,
   "metadata": {},
   "outputs": [
    {
     "name": "stdout",
     "output_type": "stream",
     "text": [
      "Score:  80\n",
      "Score:  75\n",
      "Score:  65\n",
      "Score:  99\n",
      "Score:  42\n",
      "Score:  100\n",
      "Score:  80\n",
      "Score:  72\n",
      "Score:  97\n"
     ]
    }
   ],
   "source": [
    "# for-loop基礎練習\n",
    "scores1=[80, 75, 65, 99, 42, 100, 80, 72, 97]\n",
    "\n",
    "for num in scores1:\n",
    "    print(\"Score: \", num)"
   ]
  },
  {
   "cell_type": "code",
   "execution_count": 62,
   "metadata": {
    "collapsed": true
   },
   "outputs": [
    {
     "name": "stdout",
     "output_type": "stream",
     "text": [
      "Score:  80\n",
      "score1Sum:  80\n",
      "--------------------------------------------------\n",
      "Score:  75\n",
      "score1Sum:  155\n",
      "--------------------------------------------------\n",
      "Score:  65\n",
      "score1Sum:  220\n",
      "--------------------------------------------------\n",
      "Score:  99\n",
      "score1Sum:  319\n",
      "--------------------------------------------------\n",
      "Score:  42\n",
      "score1Sum:  361\n",
      "--------------------------------------------------\n",
      "Score:  100\n",
      "score1Sum:  461\n",
      "--------------------------------------------------\n",
      "Score:  80\n",
      "score1Sum:  541\n",
      "--------------------------------------------------\n",
      "Score:  72\n",
      "score1Sum:  613\n",
      "--------------------------------------------------\n",
      "Score:  97\n",
      "score1Sum:  710\n",
      "--------------------------------------------------\n",
      "SUM:  710\n"
     ]
    }
   ],
   "source": [
    "scores1=[80, 75, 65, 99, 42, 100, 80, 72, 97]\n",
    "\n",
    "# 進階：把 scores1的所有數加起來\n",
    "\n",
    "score1Sum = 0\n",
    "for num in scores1:\n",
    "    print(\"Score: \", num)\n",
    "    score1Sum = score1Sum + num #把score1Sum重新定義為score1Sum加上num\n",
    "    print(\"score1Sum: \", score1Sum) # 看每一次的迴圈，score1Sum如何變化\n",
    "    print(\"-\"*50)\n",
    "    \n",
    "print(\"SUM: \", score1Sum)"
   ]
  },
  {
   "cell_type": "code",
   "execution_count": 81,
   "metadata": {},
   "outputs": [
    {
     "name": "stdout",
     "output_type": "stream",
     "text": [
      "Jeff\n",
      "Leo\n",
      "Keven\n",
      "Steve\n",
      "Apple\n",
      "Elle\n",
      "==================================================\n",
      "Name:  Jeff\n",
      "Score:  80\n",
      "--------------------------------------------------\n",
      "Name:  Leo\n",
      "Score:  90\n",
      "--------------------------------------------------\n",
      "Name:  Keven\n",
      "Score:  65\n",
      "--------------------------------------------------\n",
      "Name:  Steve\n",
      "Score:  99\n",
      "--------------------------------------------------\n",
      "Name:  Apple\n",
      "Score:  32\n",
      "--------------------------------------------------\n",
      "Name:  Elle\n",
      "Score:  100\n",
      "--------------------------------------------------\n"
     ]
    }
   ],
   "source": [
    "# lsit,dict等都可以拿來做for-loop\n",
    "# 下方以dict為例\n",
    "\n",
    "scoreDict2 = {\n",
    "    \"Jeff\":80,\n",
    "    \"Leo\":90,\n",
    "    \"Keven\":65,\n",
    "    \"Steve\":99,\n",
    "    \"Apple\":32,\n",
    "    \"Elle\":100\n",
    "}\n",
    " \n",
    "for ele in scoreDict2:\n",
    "    print(ele)\n",
    "\n",
    "# 用dict進行for-loop的話，會出現的是key\n",
    "print(\"=\"*50)\n",
    "\n",
    "#如果要提取value的話，可以寫成下面....\n",
    "\n",
    "for k in scoreDict2:\n",
    "    print(\"Name: \", k)\n",
    "    print(\"Score: \", scoreDict2[k])\n",
    "    print(\"-\"*50)"
   ]
  },
  {
   "cell_type": "code",
   "execution_count": 31,
   "metadata": {},
   "outputs": [
    {
     "name": "stdout",
     "output_type": "stream",
     "text": [
      "Name :  Jeff\n",
      "Score :  80\n",
      "--------------------------------------------------\n",
      "Name :  Leo\n",
      "Score :  75\n",
      "--------------------------------------------------\n",
      "Name :  Keven\n",
      "Score :  65\n",
      "--------------------------------------------------\n",
      "Name :  Steve\n",
      "Score :  99\n",
      "--------------------------------------------------\n",
      "Name :  Apple\n",
      "Score :  42\n",
      "--------------------------------------------------\n",
      "Name :  Elle\n",
      "Score :  100\n",
      "--------------------------------------------------\n",
      "Name :  Jenny\n",
      "Score :  80\n",
      "--------------------------------------------------\n",
      "Name :  Julia\n",
      "Score :  72\n",
      "--------------------------------------------------\n",
      "Name :  Benson\n",
      "Score :  97\n",
      "--------------------------------------------------\n"
     ]
    }
   ],
   "source": [
    "# 也可以使用下面另一種方式：\n",
    "# list中包著多個dict\n",
    "scoresData = [\n",
    "    { \"name\" : \"Jeff\"  ,  \"score\":80 },    \n",
    "    { \"name\" : \"Leo\"   ,  \"score\":75 },\n",
    "    { \"name\" : \"Keven\" ,  \"score\":65 },\n",
    "    { \"name\" : \"Steve\" ,  \"score\":99 },\n",
    "    { \"name\" : \"Apple\" ,  \"score\":42 },\n",
    "    { \"name\" : \"Elle\"  ,  \"score\":100 },\n",
    "    { \"name\" : \"Jenny\" ,  \"score\":80 },\n",
    "    { \"name\" : \"Julia\" ,  \"score\":72 },\n",
    "    { \"name\" : \"Benson\" , \"score\":97 }\n",
    "]\n",
    "\n",
    "for ele in scoresData:\n",
    "    print(\"Name : \",ele[\"name\"])\n",
    "    print(\"Score : \",ele[\"score\"])\n",
    "    print(\"-\"*50)"
   ]
  },
  {
   "cell_type": "markdown",
   "metadata": {},
   "source": [
    "### while-loop\n",
    "* 語法為 while[condition]，意思是**只要...**\n",
    "* 若迴圈次數**無法控制**，建議使用while-loop"
   ]
  },
  {
   "cell_type": "code",
   "execution_count": 60,
   "metadata": {},
   "outputs": [
    {
     "name": "stdout",
     "output_type": "stream",
     "text": [
      "0\n",
      "1\n",
      "2\n",
      "3\n",
      "4\n",
      "Done.\n",
      "5\n"
     ]
    }
   ],
   "source": [
    "cnt = 0\n",
    "while cnt < 5:\n",
    "    print(cnt)\n",
    "    cnt = cnt + 1  # 特別注意！while語句中必須要有終止迴圈的條件語句！\n",
    "    \n",
    "print(\"Done.\")\n",
    "print(cnt) #看cnt最後是到多少停止"
   ]
  },
  {
   "cell_type": "markdown",
   "metadata": {},
   "source": [
    "## 小測試"
   ]
  },
  {
   "cell_type": "code",
   "execution_count": 104,
   "metadata": {
    "scrolled": true
   },
   "outputs": [
    {
     "name": "stdout",
     "output_type": "stream",
     "text": [
      "Score:  1\n",
      "Score:  2\n",
      "Score:  3\n",
      "Score:  4\n",
      "Score:  5\n",
      "Score:  6\n",
      "Score:  7\n",
      "Score:  8\n",
      "Score:  9\n",
      "Score:  10\n",
      "55\n",
      "==================================================\n",
      "1\n",
      "2\n",
      "3\n",
      "4\n",
      "5\n",
      "6\n",
      "7\n",
      "8\n",
      "9\n",
      "10\n",
      "55\n",
      "==================================================\n",
      "range(0, 10)\n",
      "[1, 2, 3, 4, 5, 6, 7, 8, 9, 10]\n",
      "55\n"
     ]
    }
   ],
   "source": [
    "# 1.計算1+2+.....+n總和\n",
    "\n",
    "# 我的練習\n",
    "x = [1,2,3,4,5,6,7,8,9,10]\n",
    "SUM = 0\n",
    "\n",
    "for num in x:\n",
    "    print(\"Score: \", num)\n",
    "    SUM = SUM + num\n",
    "print(SUM)\n",
    "\n",
    "print(\"=\"*50)\n",
    "\n",
    "# 老師演練1\n",
    "num = 10\n",
    "i = 1\n",
    "numberSUM = 0\n",
    "while i <= num:\n",
    "    print(i)\n",
    "    numberSUM += i\n",
    "    i += 1\n",
    "\n",
    "print(numberSUM)\n",
    "\n",
    "print(\"=\"*50)\n",
    "\n",
    "# 老師演練2(進階版)\n",
    "num = 10\n",
    "\n",
    "print(range(num))\n",
    "print(list(range(1, num+1)))\n",
    "SUM = sum(range(1, num+1))\n",
    "print(SUM)"
   ]
  },
  {
   "cell_type": "code",
   "execution_count": 50,
   "metadata": {
    "scrolled": true
   },
   "outputs": [
    {
     "name": "stdout",
     "output_type": "stream",
     "text": [
      "******\n",
      "*****\n",
      "****\n",
      "***\n",
      "**\n",
      "*\n",
      "\n",
      "==================================================\n",
      "******\n",
      "*****\n",
      "****\n",
      "***\n",
      "**\n",
      "*\n"
     ]
    }
   ],
   "source": [
    "# 2. 試著撰寫一程式，列印出下列圖形\n",
    "#      ******\n",
    "#      *****\n",
    "#      ****\n",
    "#      ***\n",
    "#      **\n",
    "#      *\n",
    "\n",
    "# 我的練習\n",
    "y = 7\n",
    "while y > 0:\n",
    "    y = y - 1\n",
    "    print(\"*\"*y)\n",
    "\n",
    "print(\"=\"*50)\n",
    "\n",
    "# 老師演練\n",
    "\n",
    "for star in range(0,6):\n",
    "    print(\"*\"*(6-star))"
   ]
  },
  {
   "cell_type": "code",
   "execution_count": 52,
   "metadata": {
    "scrolled": true
   },
   "outputs": [
    {
     "name": "stdout",
     "output_type": "stream",
     "text": [
      "a\n",
      "b\n",
      "c\n",
      "c\n",
      "c\n",
      "a\n",
      "d\n",
      "b\n",
      "b\n",
      "a\n",
      "c\n",
      "{'a': 3, 'b': 3, 'c': 4, 'd': 1}\n"
     ]
    }
   ],
   "source": [
    "# 3.有一 list = [“a”, “b”, “c”, “c”, “c”, “a”, “d”, “b”, “b”, “a”, “c”]\n",
    "# 試統計各字母出現次數\n",
    "\n",
    "# 老師演練\n",
    "words = [\"a\", \"b\", \"c\", \"c\", \"c\", \"a\", \"d\", \"b\", \"b\", \"a\", \"c\"]\n",
    "\n",
    "# 創建一個空的 dict\n",
    "dictWord = {}\n",
    "for v in words:\n",
    "    print(v)\n",
    "    if v in dictWord:\n",
    "        dictWord[v] += 1\n",
    "    else:\n",
    "        dictWord[v] = 1\n",
    "print(dictWord)"
   ]
  },
  {
   "cell_type": "code",
   "execution_count": 69,
   "metadata": {},
   "outputs": [
    {
     "name": "stdout",
     "output_type": "stream",
     "text": [
      " 1*1=1 1*2=2 1*3=3 1*4=4 1*5=5 1*6=6 1*7=7 1*8=8 1*9=9 \n",
      " 2*1=2 2*2=4 2*3=6 2*4=8 2*5=10 2*6=12 2*7=14 2*8=16 2*9=18 \n",
      " 3*1=3 3*2=6 3*3=9 3*4=12 3*5=15 3*6=18 3*7=21 3*8=24 3*9=27 \n",
      " 4*1=4 4*2=8 4*3=12 4*4=16 4*5=20 4*6=24 4*7=28 4*8=32 4*9=36 \n",
      " 5*1=5 5*2=10 5*3=15 5*4=20 5*5=25 5*6=30 5*7=35 5*8=40 5*9=45 \n",
      " 6*1=6 6*2=12 6*3=18 6*4=24 6*5=30 6*6=36 6*7=42 6*8=48 6*9=54 \n",
      " 7*1=7 7*2=14 7*3=21 7*4=28 7*5=35 7*6=42 7*7=49 7*8=56 7*9=63 \n",
      " 8*1=8 8*2=16 8*3=24 8*4=32 8*5=40 8*6=48 8*7=56 8*8=64 8*9=72 \n",
      " 9*1=9 9*2=18 9*3=27 9*4=36 9*5=45 9*6=54 9*7=63 9*8=72 9*9=81 \n",
      "==================================================\n",
      "1 * 1 = 1  1 * 2 = 2  1 * 3 = 3  1 * 4 = 4  1 * 5 = 5  1 * 6 = 6  1 * 7 = 7  1 * 8 = 8  1 * 9 = 9  \n",
      "2 * 1 = 2  2 * 2 = 4  2 * 3 = 6  2 * 4 = 8  2 * 5 = 10 2 * 6 = 12 2 * 7 = 14 2 * 8 = 16 2 * 9 = 18 \n",
      "3 * 1 = 3  3 * 2 = 6  3 * 3 = 9  3 * 4 = 12 3 * 5 = 15 3 * 6 = 18 3 * 7 = 21 3 * 8 = 24 3 * 9 = 27 \n",
      "4 * 1 = 4  4 * 2 = 8  4 * 3 = 12 4 * 4 = 16 4 * 5 = 20 4 * 6 = 24 4 * 7 = 28 4 * 8 = 32 4 * 9 = 36 \n",
      "5 * 1 = 5  5 * 2 = 10 5 * 3 = 15 5 * 4 = 20 5 * 5 = 25 5 * 6 = 30 5 * 7 = 35 5 * 8 = 40 5 * 9 = 45 \n",
      "6 * 1 = 6  6 * 2 = 12 6 * 3 = 18 6 * 4 = 24 6 * 5 = 30 6 * 6 = 36 6 * 7 = 42 6 * 8 = 48 6 * 9 = 54 \n",
      "7 * 1 = 7  7 * 2 = 14 7 * 3 = 21 7 * 4 = 28 7 * 5 = 35 7 * 6 = 42 7 * 7 = 49 7 * 8 = 56 7 * 9 = 63 \n",
      "8 * 1 = 8  8 * 2 = 16 8 * 3 = 24 8 * 4 = 32 8 * 5 = 40 8 * 6 = 48 8 * 7 = 56 8 * 8 = 64 8 * 9 = 72 \n",
      "9 * 1 = 9  9 * 2 = 18 9 * 3 = 27 9 * 4 = 36 9 * 5 = 45 9 * 6 = 54 9 * 7 = 63 9 * 8 = 72 9 * 9 = 81 \n"
     ]
    }
   ],
   "source": [
    "# 4. 試撰寫一程式 , 顯示九九乘法表\n",
    "\n",
    "for num1 in range(1,10):\n",
    "    \n",
    "    msg = \" \"\n",
    "    \n",
    "    for num2 in range(1,10):\n",
    "        value = num1 * num2\n",
    "        msg += \"{}*{}={}\".format(num1, num2, value)\n",
    "        msg += \" \"\n",
    "    \n",
    "    print(msg)\n",
    "    \n",
    "print(\"=\"*50)\n",
    "\n",
    "## 修排版\n",
    "for i in range(1,10):\n",
    "    msg = \"\"\n",
    "    for j in range(1,10):\n",
    "        v = i*j\n",
    "        msg += \"{i} * {j} = {v}\".format(i=i,j=j,v=v)\n",
    "        msg += \"  \" if len(str(v)) == 1 else \" \"\n",
    "    print(msg)"
   ]
  },
  {
   "cell_type": "code",
   "execution_count": 71,
   "metadata": {},
   "outputs": [
    {
     "name": "stdout",
     "output_type": "stream",
     "text": [
      "0.46153846153846156\n",
      "****************************************\n",
      "Get ERROR !!!\n",
      "****************************************\n",
      "This is a book.\n",
      "0\n",
      "1\n",
      "2\n",
      "3\n",
      "4\n"
     ]
    },
    {
     "name": "stderr",
     "output_type": "stream",
     "text": [
      "Traceback (most recent call last):\n",
      "  File \"<ipython-input-71-376016ecb7f7>\", line 11, in <module>\n",
      "    print(A/C)\n",
      "ZeroDivisionError: division by zero\n"
     ]
    }
   ],
   "source": [
    "import traceback\n",
    "\n",
    "A = 12\n",
    "B = 26\n",
    "C = 0\n",
    "\n",
    "print(A/B)\n",
    "# print(A/C)\n",
    "\n",
    "try:\n",
    "    print(A/C)\n",
    "except:\n",
    "    print(\"*\"*40)    \n",
    "    print(\"Get ERROR !!!\")\n",
    "    traceback.print_exc()\n",
    "    print(\"*\"*40)\n",
    "\n",
    "\n",
    "\n",
    "print(\"This is a book.\")\n",
    "\n",
    "for i in range(5):\n",
    "    print(i)"
   ]
  },
  {
   "cell_type": "code",
   "execution_count": null,
   "metadata": {},
   "outputs": [],
   "source": []
  }
 ],
 "metadata": {
  "kernelspec": {
   "display_name": "Python 3",
   "language": "python",
   "name": "python3"
  },
  "language_info": {
   "codemirror_mode": {
    "name": "ipython",
    "version": 3
   },
   "file_extension": ".py",
   "mimetype": "text/x-python",
   "name": "python",
   "nbconvert_exporter": "python",
   "pygments_lexer": "ipython3",
   "version": "3.7.0"
  }
 },
 "nbformat": 4,
 "nbformat_minor": 2
}
