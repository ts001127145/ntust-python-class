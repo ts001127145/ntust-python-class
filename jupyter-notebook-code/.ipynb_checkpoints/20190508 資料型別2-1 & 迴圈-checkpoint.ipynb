{
 "cells": [
  {
   "cell_type": "markdown",
   "metadata": {},
   "source": [
    "## 資料型別2-1\n",
    "\n",
    "### 串列(list)"
   ]
  },
  {
   "cell_type": "code",
   "execution_count": 76,
   "metadata": {
    "scrolled": true
   },
   "outputs": [
    {
     "name": "stdout",
     "output_type": "stream",
     "text": [
      "[80, 75, 65, 99, 42, 100, 80, 72, 123]\n",
      "65\n",
      "123\n"
     ]
    }
   ],
   "source": [
    "# list 使用\"[]\"表示\n",
    "scores = [80, 75, 65, 99, 42, 100, 80, 72,123]\n",
    "print(scores)\n",
    "# 呼叫某個值，用index的概念\n",
    "print(scores[2])\n",
    "print(scores[-1])"
   ]
  },
  {
   "cell_type": "markdown",
   "metadata": {},
   "source": [
    "## 常用功能\n",
    "\n",
    "* .append(x)：加入x元素於list尾端\n",
    "* .pop(i)：將list內index為i的元素拔除\n",
    "* list[a:b]：取list從 index = a到b的元素，形成sub-list\n",
    "* .index(x)：回傳元素值x的index值"
   ]
  },
  {
   "cell_type": "code",
   "execution_count": 78,
   "metadata": {},
   "outputs": [
    {
     "name": "stdout",
     "output_type": "stream",
     "text": [
      "[80, 75, 99, 42, 100, 80, 72, 123, 15, 16, 45]\n",
      "==================================================\n",
      "==================================================\n",
      "[80, 75, 42, 100]\n",
      "[42, 100, 80, 72, 123]\n",
      "==================================================\n",
      "6\n"
     ]
    }
   ],
   "source": [
    "print(scores)\n",
    "# .append(x)\n",
    "\n",
    "scores.append(15) # append只能支援一個元素放入\n",
    "\n",
    "#若要放入多個元素的話，可用extend\n",
    "scores.extend([16,45]) \n",
    "\n",
    "print(\"=\"*50)\n",
    "\n",
    "#.pop(i)\n",
    "scores.pop(2)\n",
    "\n",
    "\n",
    "print(\"=\"*50)\n",
    "#list[a:b]\n",
    "print(scores[0:4])\n",
    "print(scores[2:7])\n",
    "\n",
    "\n",
    "print(\"=\"*50)\n",
    "#.index(x)\n",
    "\n",
    "print(scores.index(123))"
   ]
  },
  {
   "cell_type": "code",
   "execution_count": 36,
   "metadata": {},
   "outputs": [
    {
     "name": "stdout",
     "output_type": "stream",
     "text": [
      "[123, [2, 3, 4], True, 'a', 'b']\n",
      "a,b,c,d,e\n",
      "a____b____c____d____e\n"
     ]
    }
   ],
   "source": [
    "# list中可以有不同形態的資料類型\n",
    "test = [123, [2,3,4], True, \"a\", \"b\"]\n",
    "print(test)\n",
    "\n",
    "# 將list的所有資料進行合併，使用.join()\n",
    "test2 = [\"a\", \"b\", \"c\", \"d\", \"e\"]\n",
    "print(\",\".join(test2))\n",
    "print(\"____\".join(test2))"
   ]
  },
  {
   "cell_type": "code",
   "execution_count": 19,
   "metadata": {},
   "outputs": [
    {
     "name": "stdout",
     "output_type": "stream",
     "text": [
      "SUM:  613\n",
      "AVG:  76.625\n"
     ]
    }
   ],
   "source": [
    "# 使用list進行計算\n",
    "scores = [80, 75, 65, 99, 42, 100, 80, 72]\n",
    "\n",
    "SUM = sum(scores)\n",
    "AVG = SUM / len(scores)\n",
    "\n",
    "print(\"SUM: \", SUM)\n",
    "print(\"AVG: \", AVG)"
   ]
  },
  {
   "cell_type": "markdown",
   "metadata": {},
   "source": [
    "## 字典(dict)"
   ]
  },
  {
   "cell_type": "code",
   "execution_count": 34,
   "metadata": {},
   "outputs": [
    {
     "name": "stdout",
     "output_type": "stream",
     "text": [
      "{'Jeff': 80, 'Leo': 90, 'Keven': 65}\n",
      "80\n",
      "==================================================\n",
      "{'Jeff': 90, 'Leo': 90, 'Keven': 65, 'Lilian': 100}\n",
      "==================================================\n",
      "True\n",
      "False\n",
      "==================================================\n",
      "Keys:  dict_keys(['Jeff', 'Leo', 'Keven', 'Lilian'])\n",
      "<class 'dict'>\n",
      "<class 'dict_keys'>\n",
      "==================================================\n",
      "<class 'list'>\n",
      "<class 'list'>\n"
     ]
    }
   ],
   "source": [
    "scoreDict = {\n",
    "    \"Jeff\":80,\n",
    "    \"Leo\":90,\n",
    "    \"Keven\":65\n",
    "}\n",
    "print(scoreDict)\n",
    "\n",
    "print(scoreDict[\"Jeff\"])  #輸入key找到對應的value\n",
    "\n",
    "print(\"=\"*50)\n",
    "# 若要在dict裡面新增或修改資料的話，可以直接使用賦值的方式進行修改\n",
    "\n",
    "scoreDict[\"Jeff\"]=90\n",
    "scoreDict[\"Lilian\"]=100\n",
    "print(scoreDict)\n",
    "\n",
    "print(\"=\"*50)\n",
    "# 搜尋所需資料是否在dict中\n",
    "print(\"Jeff\" in scoreDict)\n",
    "print(\"Apple\" in scoreDict)\n",
    "\n",
    "print(\"=\"*50)\n",
    "# 若要搜索key的話，需要使用.keys()\n",
    "\n",
    "print(\"Keys: \", scoreDict.keys())\n",
    "print(type(scoreDict))\n",
    "print(type(scoreDict.keys()))   # 此時搜索出來的資料會是 dict.keys\n",
    "\n",
    "print(\"=\"*50)\n",
    "# 轉換成list的資料型態\n",
    "\n",
    "print(type(list(scoreDict)))\n",
    "print(type(list(scoreDict.keys())))"
   ]
  },
  {
   "cell_type": "code",
   "execution_count": 42,
   "metadata": {},
   "outputs": [
    {
     "name": "stdout",
     "output_type": "stream",
     "text": [
      "dict_values([80, 90, 65, 99, 32, 100])\n",
      "6\n",
      "SUM:  466\n",
      "AVG:  77.66666666666667\n"
     ]
    }
   ],
   "source": [
    "# 將 dict 中的資料做運算\n",
    "\n",
    "scoreDict2 = {\n",
    "    \"Jeff\":80,\n",
    "    \"Leo\":90,\n",
    "    \"Keven\":65,\n",
    "    \"Steve\":99,\n",
    "    \"Apple\":32,\n",
    "    \"Elle\":100\n",
    "}\n",
    "\n",
    "print(scoreDict2.values())\n",
    "print(len(scoreDict2))\n",
    "\n",
    "SUM = sum(scoreDict2.values())\n",
    "AVG = SUM / len(scoreDict2)\n",
    "\n",
    "print(\"SUM: \", SUM)\n",
    "print(\"AVG: \", AVG)"
   ]
  },
  {
   "cell_type": "markdown",
   "metadata": {},
   "source": [
    "## 集合(set)"
   ]
  },
  {
   "cell_type": "code",
   "execution_count": 44,
   "metadata": {},
   "outputs": [
    {
     "name": "stdout",
     "output_type": "stream",
     "text": [
      "<class 'set'>\n",
      "<class 'set'>\n",
      "[1, 2, 3, 2, 4, 5, 6, 8, 4, 2, 32, 2, 2, 3]\n",
      "{32, 1, 2, 3, 4, 5, 6, 8}\n"
     ]
    }
   ],
   "source": [
    "s1 = {1,2,3,4,5,6}\n",
    "s2 = {4,5,6,7,8}\n",
    "\n",
    "print(type(s1))\n",
    "print(type(s2))\n",
    "\n",
    "# 將list轉換成set，進行重複值的過濾\n",
    "s3 = [1,2,3,2,4,5,6,8,4,2,32,2,2,3]\n",
    "print(s3)\n",
    "print(set(s3))\n"
   ]
  },
  {
   "cell_type": "markdown",
   "metadata": {},
   "source": [
    "# 迴圈"
   ]
  },
  {
   "cell_type": "markdown",
   "metadata": {},
   "source": [
    "### for-loop"
   ]
  },
  {
   "cell_type": "code",
   "execution_count": 61,
   "metadata": {},
   "outputs": [
    {
     "name": "stdout",
     "output_type": "stream",
     "text": [
      "Score:  80\n",
      "Score:  75\n",
      "Score:  65\n",
      "Score:  99\n",
      "Score:  42\n",
      "Score:  100\n",
      "Score:  80\n",
      "Score:  72\n",
      "Score:  97\n"
     ]
    }
   ],
   "source": [
    "# for-loop基礎練習\n",
    "scores1=[80, 75, 65, 99, 42, 100, 80, 72, 97]\n",
    "\n",
    "for num in scores1:\n",
    "    print(\"Score: \", num)"
   ]
  },
  {
   "cell_type": "code",
   "execution_count": 62,
   "metadata": {
    "collapsed": true
   },
   "outputs": [
    {
     "name": "stdout",
     "output_type": "stream",
     "text": [
      "Score:  80\n",
      "score1Sum:  80\n",
      "--------------------------------------------------\n",
      "Score:  75\n",
      "score1Sum:  155\n",
      "--------------------------------------------------\n",
      "Score:  65\n",
      "score1Sum:  220\n",
      "--------------------------------------------------\n",
      "Score:  99\n",
      "score1Sum:  319\n",
      "--------------------------------------------------\n",
      "Score:  42\n",
      "score1Sum:  361\n",
      "--------------------------------------------------\n",
      "Score:  100\n",
      "score1Sum:  461\n",
      "--------------------------------------------------\n",
      "Score:  80\n",
      "score1Sum:  541\n",
      "--------------------------------------------------\n",
      "Score:  72\n",
      "score1Sum:  613\n",
      "--------------------------------------------------\n",
      "Score:  97\n",
      "score1Sum:  710\n",
      "--------------------------------------------------\n",
      "SUM:  710\n"
     ]
    }
   ],
   "source": [
    "scores1=[80, 75, 65, 99, 42, 100, 80, 72, 97]\n",
    "\n",
    "# 進階：把 scores1的所有數加起來\n",
    "\n",
    "score1Sum = 0\n",
    "for num in scores1:\n",
    "    print(\"Score: \", num)\n",
    "    score1Sum = score1Sum + num #把score1Sum重新定義為score1Sum加上num\n",
    "    print(\"score1Sum: \", score1Sum) # 看每一次的迴圈，score1Sum如何變化\n",
    "    print(\"-\"*50)\n",
    "    \n",
    "print(\"SUM: \", score1Sum)"
   ]
  },
  {
   "cell_type": "code",
   "execution_count": 81,
   "metadata": {},
   "outputs": [
    {
     "name": "stdout",
     "output_type": "stream",
     "text": [
      "Jeff\n",
      "Leo\n",
      "Keven\n",
      "Steve\n",
      "Apple\n",
      "Elle\n",
      "==================================================\n",
      "Name:  Jeff\n",
      "Score:  80\n",
      "--------------------------------------------------\n",
      "Name:  Leo\n",
      "Score:  90\n",
      "--------------------------------------------------\n",
      "Name:  Keven\n",
      "Score:  65\n",
      "--------------------------------------------------\n",
      "Name:  Steve\n",
      "Score:  99\n",
      "--------------------------------------------------\n",
      "Name:  Apple\n",
      "Score:  32\n",
      "--------------------------------------------------\n",
      "Name:  Elle\n",
      "Score:  100\n",
      "--------------------------------------------------\n"
     ]
    }
   ],
   "source": [
    "# lsit,dict等都可以拿來做for-loop\n",
    "# 下方以dict為例\n",
    "\n",
    "scoreDict2 = {\n",
    "    \"Jeff\":80,\n",
    "    \"Leo\":90,\n",
    "    \"Keven\":65,\n",
    "    \"Steve\":99,\n",
    "    \"Apple\":32,\n",
    "    \"Elle\":100\n",
    "}\n",
    " \n",
    "for ele in scoreDict2:\n",
    "    print(ele)\n",
    "\n",
    "# 用dict進行for-loop的話，會出現的是key\n",
    "print(\"=\"*50)\n",
    "\n",
    "#如果要提取value的話，可以寫成下面....\n",
    "\n",
    "for k in scoreDict2:\n",
    "    print(\"Name: \", k)\n",
    "    print(\"Score: \", scoreDict2[k])\n",
    "    print(\"-\"*50)"
   ]
  },
  {
   "cell_type": "code",
   "execution_count": null,
   "metadata": {},
   "outputs": [],
   "source": [
    "# 也可以使用下面另一種方式：\n",
    "\n",
    "scoreDict2 = {\n",
    "    \"Name\":\"Jeff\"; 80,\n",
    "    \"Leo\":90,\n",
    "    \"Keven\":65,\n",
    "    \"Steve\":99,\n",
    "    \"Apple\":32,\n",
    "    \"Elle\":100\n",
    "}\n",
    "\n",
    "for ele1 in scoresData:\n",
    "    print(\"Name: \", ele1[\"Name\"])\n",
    "    print(\"Score: \"),ele1[\"Score\"]\n",
    "\n",
    "    \n",
    "    \n"
   ]
  },
  {
   "cell_type": "markdown",
   "metadata": {},
   "source": [
    "### while-loop"
   ]
  },
  {
   "cell_type": "code",
   "execution_count": 60,
   "metadata": {},
   "outputs": [
    {
     "name": "stdout",
     "output_type": "stream",
     "text": [
      "0\n",
      "1\n",
      "2\n",
      "3\n",
      "4\n",
      "Done.\n",
      "5\n"
     ]
    }
   ],
   "source": [
    "cnt = 0\n",
    "while cnt < 5:\n",
    "    print(cnt)\n",
    "    cnt = cnt + 1  # 特別注意！while語句中必須要有終止迴圈的條件語句！\n",
    "    \n",
    "print(\"Done.\")\n",
    "print(cnt) #看cnt最後是到多少停止"
   ]
  },
  {
   "cell_type": "markdown",
   "metadata": {},
   "source": [
    "## 小測試"
   ]
  },
  {
   "cell_type": "code",
   "execution_count": 104,
   "metadata": {},
   "outputs": [
    {
     "name": "stdout",
     "output_type": "stream",
     "text": [
      "Score:  1\n",
      "Score:  2\n",
      "Score:  3\n",
      "Score:  4\n",
      "Score:  5\n",
      "Score:  6\n",
      "Score:  7\n",
      "Score:  8\n",
      "Score:  9\n",
      "Score:  10\n",
      "55\n",
      "==================================================\n",
      "1\n",
      "2\n",
      "3\n",
      "4\n",
      "5\n",
      "6\n",
      "7\n",
      "8\n",
      "9\n",
      "10\n",
      "55\n",
      "==================================================\n",
      "range(0, 10)\n",
      "[1, 2, 3, 4, 5, 6, 7, 8, 9, 10]\n",
      "55\n"
     ]
    }
   ],
   "source": [
    "# 1.\n",
    "# 我的練習\n",
    "x = [1,2,3,4,5,6,7,8,9,10]\n",
    "SUM = 0\n",
    "\n",
    "for num in x:\n",
    "    print(\"Score: \", num)\n",
    "    SUM = SUM + num\n",
    "print(SUM)\n",
    "\n",
    "print(\"=\"*50)\n",
    "# 老師演練1\n",
    "num = 10\n",
    "i = 1\n",
    "numberSUM = 0\n",
    "while i <= num:\n",
    "    print(i)\n",
    "    numberSUM += i\n",
    "    i += 1\n",
    "\n",
    "print(numberSUM)\n",
    "\n",
    "print(\"=\"*50)\n",
    "# 老師演練2(進階版)\n",
    "num = 10\n",
    "\n",
    "print(range(num))\n",
    "print(list(range(1, num+1)))\n",
    "SUM = sum(range(1, num+1))\n",
    "print(SUM)"
   ]
  },
  {
   "cell_type": "code",
   "execution_count": 92,
   "metadata": {
    "scrolled": true
   },
   "outputs": [
    {
     "name": "stdout",
     "output_type": "stream",
     "text": [
      "******\n",
      "*****\n",
      "****\n",
      "***\n",
      "**\n",
      "*\n",
      "\n"
     ]
    }
   ],
   "source": [
    "# 2.\n",
    "\n",
    "y = 7\n",
    "while y > 0:\n",
    "    y = y - 1\n",
    "    print(\"*\"*y)\n"
   ]
  },
  {
   "cell_type": "code",
   "execution_count": 107,
   "metadata": {},
   "outputs": [
    {
     "name": "stdout",
     "output_type": "stream",
     "text": [
      "a\n",
      "b\n",
      "c\n",
      "c\n",
      "c\n",
      "a\n",
      "d\n",
      "b\n",
      "b\n",
      "a\n",
      "c\n",
      "{'a': 3, 'b': 3, 'c': 4, 'd': 1}\n"
     ]
    }
   ],
   "source": [
    "# 3.\n",
    "words = [\"a\", \"b\", \"c\", \"c\", \"c\", \"a\", \"d\", \"b\", \"b\", \"a\", \"c\"]\n",
    "\n",
    "dictWord = {}\n",
    "for v in words:\n",
    "    print(v)\n",
    "    if v in dictWord:\n",
    "        dictWord[v] += 1\n",
    "    else:\n",
    "        dictWord[v] = 1\n",
    "print(dictWord)"
   ]
  },
  {
   "cell_type": "code",
   "execution_count": null,
   "metadata": {},
   "outputs": [],
   "source": []
  },
  {
   "cell_type": "code",
   "execution_count": null,
   "metadata": {},
   "outputs": [],
   "source": []
  },
  {
   "cell_type": "code",
   "execution_count": null,
   "metadata": {},
   "outputs": [],
   "source": []
  }
 ],
 "metadata": {
  "kernelspec": {
   "display_name": "Python 3",
   "language": "python",
   "name": "python3"
  },
  "language_info": {
   "codemirror_mode": {
    "name": "ipython",
    "version": 3
   },
   "file_extension": ".py",
   "mimetype": "text/x-python",
   "name": "python",
   "nbconvert_exporter": "python",
   "pygments_lexer": "ipython3",
   "version": "3.7.0"
  }
 },
 "nbformat": 4,
 "nbformat_minor": 2
}
